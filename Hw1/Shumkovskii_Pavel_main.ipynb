{
  "cells": [
    {
      "cell_type": "markdown",
      "metadata": {
        "id": "TEEKQwtYDMUz"
      },
      "source": [
        "**SOFT DEADLINE:** `20.03.2022 23:59 msk` "
      ]
    },
    {
      "cell_type": "markdown",
      "metadata": {
        "id": "g-IAo9sYDMU-"
      },
      "source": [
        "# [5 points] Part 1. Data cleaning"
      ]
    },
    {
      "cell_type": "markdown",
      "metadata": {
        "id": "-SNyjuGjDMU_"
      },
      "source": [
        "The task is to clear the text data of the crawled web-pages from different sites. \n",
        "\n",
        "It is necessary to ensure that the distribution of the 100 most frequent words includes only meaningful words in english language (not particles, conjunctions, prepositions, numbers, tags, symbols)."
      ]
    },
    {
      "cell_type": "markdown",
      "metadata": {
        "id": "TA4VkGl2DMVB"
      },
      "source": [
        "Determine the order of operations below and carry out the appropriate cleaning.\n",
        "\n",
        "1. Remove non-english words\n",
        "1. Remove html-tags (try to do it with regular expression, or play with beautifulsoap library)\n",
        "1. Apply lemmatization / stemming\n",
        "1. Remove stop-words\n",
        "1. Additional processing - At your own initiative, if this helps to obtain a better distribution"
      ]
    },
    {
      "cell_type": "markdown",
      "metadata": {
        "id": "hjLsB9pdDMVC"
      },
      "source": [
        "#### Hints"
      ]
    },
    {
      "cell_type": "markdown",
      "metadata": {
        "id": "mk6ZLncvDMVD"
      },
      "source": [
        "1. To do text processing you may use nltk and re libraries\n",
        "1. and / or any other libraries on your choise"
      ]
    },
    {
      "cell_type": "markdown",
      "metadata": {
        "id": "KCbTa1OiDMVE"
      },
      "source": [
        "#### Data reading"
      ]
    },
    {
      "cell_type": "markdown",
      "metadata": {
        "id": "cXbG649IDMVG"
      },
      "source": [
        "The dataset for this part can be downloaded here: `https://drive.google.com/file/d/1wLwo83J-ikCCZY2RAoYx8NghaSaQ-lBA/view?usp=sharing`"
      ]
    },
    {
      "cell_type": "code",
      "execution_count": 1,
      "metadata": {
        "id": "HN8UxSDkDMVH"
      },
      "outputs": [
        {
          "name": "stdout",
          "output_type": "stream",
          "text": [
            "[nltk_data] Downloading package stopwords to\n",
            "[nltk_data]     C:\\Users\\Pablo\\AppData\\Roaming\\nltk_data...\n",
            "[nltk_data]   Package stopwords is already up-to-date!\n"
          ]
        }
      ],
      "source": [
        "'''Packages'''\n",
        "import re\n",
        "import codecs\n",
        "import pandas as pd\n",
        "from nltk.tokenize import TreebankWordTokenizer, WhitespaceTokenizer\n",
        "from nltk.corpus import stopwords\n",
        "import numpy as np\n",
        "import nltk\n",
        "from nltk.stem import PorterStemmer, WordNetLemmatizer\n",
        "from heapq import nlargest\n",
        "from operator import itemgetter\n",
        "from collections import Counter\n",
        "from nltk import tokenize\n",
        "from nltk.corpus import wordnet as wn\n",
        "from nltk.tokenize import word_tokenize\n",
        "import spacy\n",
        "from bs4 import BeautifulSoup\n",
        "nltk.download('stopwords')\n",
        "import warnings\n",
        "warnings.filterwarnings(\"ignore\")\n"
      ]
    },
    {
      "cell_type": "markdown",
      "metadata": {
        "id": "fGBTg9g4DMVJ"
      },
      "source": [
        "#### Data processing"
      ]
    },
    {
      "cell_type": "code",
      "execution_count": 17,
      "metadata": {
        "id": "nbpM3QUwDMVK"
      },
      "outputs": [],
      "source": [
        "data = pd.read_csv(\"D:\\\\Documents\\\\ITMO\\\\Year1\\\\NLP\\\\Hw1\\\\web_sites_data.csv\")"
      ]
    },
    {
      "cell_type": "code",
      "execution_count": 18,
      "metadata": {
        "id": "Hklvhb6RDMVL"
      },
      "outputs": [],
      "source": [
        "for i in range(len(data)):\n",
        "    data['text'][i] = ' '.join(BeautifulSoup(data['text'][i], \"html.parser\").stripped_strings).lower()\n"
      ]
    },
    {
      "cell_type": "code",
      "execution_count": 246,
      "metadata": {},
      "outputs": [],
      "source": [
        "#data.to_csv('clean_small.csv')\n",
        "#data = pd.read_csv('clean_small.csv')"
      ]
    },
    {
      "cell_type": "code",
      "execution_count": 19,
      "metadata": {
        "id": "H59-VAGmDMVM"
      },
      "outputs": [],
      "source": [
        "#remove all except words\n",
        "for i in range(len(data)):\n",
        "    data['text'][i] = re.sub('([^A-Za-z0-9 ]|[^ ]*[0-9][^ ]*)', ' ', data['text'][i])"
      ]
    },
    {
      "cell_type": "code",
      "execution_count": 20,
      "metadata": {},
      "outputs": [
        {
          "data": {
            "text/html": [
              "<div>\n",
              "<style scoped>\n",
              "    .dataframe tbody tr th:only-of-type {\n",
              "        vertical-align: middle;\n",
              "    }\n",
              "\n",
              "    .dataframe tbody tr th {\n",
              "        vertical-align: top;\n",
              "    }\n",
              "\n",
              "    .dataframe thead th {\n",
              "        text-align: right;\n",
              "    }\n",
              "</style>\n",
              "<table border=\"1\" class=\"dataframe\">\n",
              "  <thead>\n",
              "    <tr style=\"text-align: right;\">\n",
              "      <th></th>\n",
              "      <th>text</th>\n",
              "      <th>tokens</th>\n",
              "      <th>tokens_ns</th>\n",
              "    </tr>\n",
              "  </thead>\n",
              "  <tbody>\n",
              "    <tr>\n",
              "      <th>0</th>\n",
              "      <td>eric newby   love and war in the apennines eri...</td>\n",
              "      <td>[eric, newby, love, and, war, in, the, apennin...</td>\n",
              "      <td>[eric, newby, love, war, apennines, eric, newb...</td>\n",
              "    </tr>\n",
              "    <tr>\n",
              "      <th>1</th>\n",
              "      <td>eric newby   short walk in the hindu kush eric...</td>\n",
              "      <td>[eric, newby, short, walk, in, the, hindu, kus...</td>\n",
              "      <td>[eric, newby, short, walk, hindu, kush, eric, ...</td>\n",
              "    </tr>\n",
              "    <tr>\n",
              "      <th>2</th>\n",
              "      <td>william wordsworth   the poetry of wordsworth ...</td>\n",
              "      <td>[william, wordsworth, the, poetry, of, wordswo...</td>\n",
              "      <td>[william, wordsworth, poetry, wordsworth, unab...</td>\n",
              "    </tr>\n",
              "    <tr>\n",
              "      <th>3</th>\n",
              "      <td>harriet beecher stowe   uncle tom s cabin harr...</td>\n",
              "      <td>[harriet, beecher, stowe, uncle, tom, s, cabin...</td>\n",
              "      <td>[harriet, beecher, stowe, uncle, tom, cabin, h...</td>\n",
              "    </tr>\n",
              "    <tr>\n",
              "      <th>4</th>\n",
              "      <td>elizabeth buchan   consider the lily elizabeth...</td>\n",
              "      <td>[elizabeth, buchan, consider, the, lily, eliza...</td>\n",
              "      <td>[elizabeth, buchan, consider, lily, elizabeth,...</td>\n",
              "    </tr>\n",
              "  </tbody>\n",
              "</table>\n",
              "</div>"
            ],
            "text/plain": [
              "                                                text  \\\n",
              "0  eric newby   love and war in the apennines eri...   \n",
              "1  eric newby   short walk in the hindu kush eric...   \n",
              "2  william wordsworth   the poetry of wordsworth ...   \n",
              "3  harriet beecher stowe   uncle tom s cabin harr...   \n",
              "4  elizabeth buchan   consider the lily elizabeth...   \n",
              "\n",
              "                                              tokens  \\\n",
              "0  [eric, newby, love, and, war, in, the, apennin...   \n",
              "1  [eric, newby, short, walk, in, the, hindu, kus...   \n",
              "2  [william, wordsworth, the, poetry, of, wordswo...   \n",
              "3  [harriet, beecher, stowe, uncle, tom, s, cabin...   \n",
              "4  [elizabeth, buchan, consider, the, lily, eliza...   \n",
              "\n",
              "                                           tokens_ns  \n",
              "0  [eric, newby, love, war, apennines, eric, newb...  \n",
              "1  [eric, newby, short, walk, hindu, kush, eric, ...  \n",
              "2  [william, wordsworth, poetry, wordsworth, unab...  \n",
              "3  [harriet, beecher, stowe, uncle, tom, cabin, h...  \n",
              "4  [elizabeth, buchan, consider, lily, elizabeth,...  "
            ]
          },
          "execution_count": 20,
          "metadata": {},
          "output_type": "execute_result"
        }
      ],
      "source": [
        "#tokenizer\n",
        "array_for_tokens = []\n",
        "for i in range(len(data)):\n",
        "    array_for_tokens.append(TreebankWordTokenizer().tokenize(data[\"text\"][i]))\n",
        "\n",
        "\n",
        "data['tokens'] = array_for_tokens\n",
        "\n",
        "#stopwords \n",
        "from nltk.corpus import stopwords\n",
        "stop_words = stopwords.words(\"english\")\n",
        "\n",
        "\n",
        "lemmatizer = WordNetLemmatizer()\n",
        "stemmer = PorterStemmer()\n",
        "\n",
        "\n",
        "clean = []\n",
        "stop_my_words = ['com','u', 'inc', 'msn','xx','e','v','d','r',' r', 'r ', ' r ' ]\n",
        "for i in range(len(data)):\n",
        "    #deleting stopwords\n",
        "    tokens_ns = [token for token in data[\"tokens\"][i] if token not in stop_words]\n",
        "    tokens_ns2 = [token for token in tokens_ns if token not in stop_my_words]\n",
        "    #lemmatization\n",
        "    temp = []\n",
        "    for token in tokens_ns2:\n",
        "        word = lemmatizer.lemmatize(token)\n",
        "        if word not in stop_my_words:\n",
        "            temp.append(word)\n",
        "    clean.append(temp)\n",
        "\n",
        "\n",
        "data['tokens_ns'] = clean\n",
        "\n",
        "data.head()"
      ]
    },
    {
      "cell_type": "code",
      "execution_count": 21,
      "metadata": {},
      "outputs": [
        {
          "data": {
            "text/plain": [
              "71699"
            ]
          },
          "execution_count": 21,
          "metadata": {},
          "output_type": "execute_result"
        }
      ],
      "source": [
        "len(data)"
      ]
    },
    {
      "cell_type": "code",
      "execution_count": 4,
      "metadata": {},
      "outputs": [],
      "source": [
        "#data.to_csv('clean.csv')\n",
        "#data = pd.read_csv('clean.csv')"
      ]
    },
    {
      "cell_type": "code",
      "execution_count": 22,
      "metadata": {},
      "outputs": [
        {
          "data": {
            "text/plain": [
              "list"
            ]
          },
          "execution_count": 22,
          "metadata": {},
          "output_type": "execute_result"
        }
      ],
      "source": [
        "type(data['tokens_ns'][0])"
      ]
    },
    {
      "cell_type": "code",
      "execution_count": 23,
      "metadata": {},
      "outputs": [],
      "source": [
        "#create full-tokens list by joining chapters\n",
        "flat_list = [item for sublist in data['tokens_ns'] for item in sublist]\n"
      ]
    },
    {
      "cell_type": "code",
      "execution_count": 24,
      "metadata": {},
      "outputs": [],
      "source": [
        "tokens =  Counter(flat_list)\n"
      ]
    },
    {
      "cell_type": "markdown",
      "metadata": {
        "id": "_h_c-1kBDMVN"
      },
      "source": [
        "#### Vizualization"
      ]
    },
    {
      "cell_type": "markdown",
      "metadata": {
        "id": "HTu83iAWDMVN"
      },
      "source": [
        "As a visualisation, it is necessary to construct a frequency distribution of words (the 100 most common words), sorted by frequency. \n",
        "\n",
        "For visualization purposes we advice you to use plotly, but you are free to choose other libraries"
      ]
    },
    {
      "cell_type": "code",
      "execution_count": 25,
      "metadata": {
        "id": "bHX6IXcrDMVO"
      },
      "outputs": [],
      "source": [
        "tokens_count_df =  pd.DataFrame.from_dict(tokens, orient='index').reset_index()\n",
        "tokens_count_df.columns = ['word','count']\n"
      ]
    },
    {
      "cell_type": "code",
      "execution_count": 26,
      "metadata": {},
      "outputs": [],
      "source": [
        "tokens_count_df = tokens_count_df.sort_values(by=['count'],ascending=False)"
      ]
    },
    {
      "cell_type": "code",
      "execution_count": 27,
      "metadata": {},
      "outputs": [
        {
          "data": {
            "application/vnd.plotly.v1+json": {
              "config": {
                "plotlyServerURL": "https://plot.ly"
              },
              "data": [
                {
                  "alignmentgroup": "True",
                  "hovertemplate": "word=%{x}<br>count=%{y}<extra></extra>",
                  "legendgroup": "",
                  "marker": {
                    "color": "#636efa",
                    "pattern": {
                      "shape": ""
                    }
                  },
                  "name": "",
                  "offsetgroup": "",
                  "orientation": "v",
                  "showlegend": false,
                  "textposition": "auto",
                  "type": "bar",
                  "x": [
                    "game",
                    "xbox",
                    "review",
                    "news",
                    "player",
                    "stock",
                    "top",
                    "net",
                    "home",
                    "cnet",
                    "video",
                    "site",
                    "quote",
                    "market",
                    "time",
                    "world",
                    "new",
                    "cheat",
                    "product",
                    "feature",
                    "published",
                    "tv",
                    "playstation",
                    "price",
                    "data",
                    "city",
                    "search",
                    "get",
                    "league",
                    "team",
                    "rating",
                    "sport",
                    "release",
                    "company",
                    "medium",
                    "privacy",
                    "see",
                    "cbs",
                    "action",
                    "war",
                    "wii",
                    "user",
                    "ign",
                    "view",
                    "book",
                    "policy",
                    "free",
                    "forum",
                    "day",
                    "use",
                    "chart",
                    "information",
                    "cup",
                    "date",
                    "pc",
                    "nintendo",
                    "help",
                    "result",
                    "small",
                    "football",
                    "interactive",
                    "content",
                    "phone",
                    "contact",
                    "screenshots",
                    "update",
                    "buy",
                    "service",
                    "right",
                    "term",
                    "club",
                    "last",
                    "preview",
                    "star",
                    "international",
                    "teamxbox",
                    "biz",
                    "movie",
                    "add",
                    "gamepro",
                    "desktop",
                    "window",
                    "store",
                    "guide",
                    "si",
                    "real",
                    "online",
                    "software",
                    "page",
                    "nasdaq",
                    "cell",
                    "score",
                    "first",
                    "fixture",
                    "n",
                    "may",
                    "high",
                    "p",
                    "report",
                    "year"
                  ],
                  "xaxis": "x",
                  "y": [
                    632978,
                    382324,
                    267726,
                    245202,
                    205058,
                    192677,
                    168985,
                    162638,
                    143153,
                    139787,
                    138126,
                    135249,
                    135035,
                    122682,
                    118631,
                    115478,
                    109285,
                    106009,
                    98814,
                    98598,
                    96049,
                    90352,
                    88771,
                    84313,
                    81930,
                    81163,
                    80100,
                    78653,
                    78053,
                    76991,
                    76444,
                    76201,
                    74870,
                    74171,
                    74002,
                    71164,
                    70845,
                    70007,
                    68769,
                    68116,
                    67411,
                    66518,
                    66453,
                    66001,
                    64464,
                    62105,
                    61530,
                    61117,
                    59959,
                    59881,
                    59843,
                    59610,
                    59298,
                    58723,
                    58293,
                    57409,
                    56997,
                    56611,
                    56416,
                    56281,
                    56052,
                    55371,
                    54908,
                    54873,
                    54320,
                    54259,
                    54230,
                    53961,
                    53786,
                    52617,
                    52197,
                    51726,
                    51452,
                    51294,
                    51097,
                    51066,
                    49467,
                    49396,
                    49355,
                    49299,
                    49292,
                    48461,
                    48379,
                    48161,
                    47985,
                    47797,
                    47744,
                    47288,
                    46388,
                    46350,
                    46235,
                    46030,
                    45720,
                    45647,
                    45600,
                    45377,
                    45304,
                    45272,
                    45254,
                    45122
                  ],
                  "yaxis": "y"
                }
              ],
              "layout": {
                "barmode": "relative",
                "legend": {
                  "tracegroupgap": 0
                },
                "template": {
                  "data": {
                    "bar": [
                      {
                        "error_x": {
                          "color": "#2a3f5f"
                        },
                        "error_y": {
                          "color": "#2a3f5f"
                        },
                        "marker": {
                          "line": {
                            "color": "#E5ECF6",
                            "width": 0.5
                          },
                          "pattern": {
                            "fillmode": "overlay",
                            "size": 10,
                            "solidity": 0.2
                          }
                        },
                        "type": "bar"
                      }
                    ],
                    "barpolar": [
                      {
                        "marker": {
                          "line": {
                            "color": "#E5ECF6",
                            "width": 0.5
                          },
                          "pattern": {
                            "fillmode": "overlay",
                            "size": 10,
                            "solidity": 0.2
                          }
                        },
                        "type": "barpolar"
                      }
                    ],
                    "carpet": [
                      {
                        "aaxis": {
                          "endlinecolor": "#2a3f5f",
                          "gridcolor": "white",
                          "linecolor": "white",
                          "minorgridcolor": "white",
                          "startlinecolor": "#2a3f5f"
                        },
                        "baxis": {
                          "endlinecolor": "#2a3f5f",
                          "gridcolor": "white",
                          "linecolor": "white",
                          "minorgridcolor": "white",
                          "startlinecolor": "#2a3f5f"
                        },
                        "type": "carpet"
                      }
                    ],
                    "choropleth": [
                      {
                        "colorbar": {
                          "outlinewidth": 0,
                          "ticks": ""
                        },
                        "type": "choropleth"
                      }
                    ],
                    "contour": [
                      {
                        "colorbar": {
                          "outlinewidth": 0,
                          "ticks": ""
                        },
                        "colorscale": [
                          [
                            0,
                            "#0d0887"
                          ],
                          [
                            0.1111111111111111,
                            "#46039f"
                          ],
                          [
                            0.2222222222222222,
                            "#7201a8"
                          ],
                          [
                            0.3333333333333333,
                            "#9c179e"
                          ],
                          [
                            0.4444444444444444,
                            "#bd3786"
                          ],
                          [
                            0.5555555555555556,
                            "#d8576b"
                          ],
                          [
                            0.6666666666666666,
                            "#ed7953"
                          ],
                          [
                            0.7777777777777778,
                            "#fb9f3a"
                          ],
                          [
                            0.8888888888888888,
                            "#fdca26"
                          ],
                          [
                            1,
                            "#f0f921"
                          ]
                        ],
                        "type": "contour"
                      }
                    ],
                    "contourcarpet": [
                      {
                        "colorbar": {
                          "outlinewidth": 0,
                          "ticks": ""
                        },
                        "type": "contourcarpet"
                      }
                    ],
                    "heatmap": [
                      {
                        "colorbar": {
                          "outlinewidth": 0,
                          "ticks": ""
                        },
                        "colorscale": [
                          [
                            0,
                            "#0d0887"
                          ],
                          [
                            0.1111111111111111,
                            "#46039f"
                          ],
                          [
                            0.2222222222222222,
                            "#7201a8"
                          ],
                          [
                            0.3333333333333333,
                            "#9c179e"
                          ],
                          [
                            0.4444444444444444,
                            "#bd3786"
                          ],
                          [
                            0.5555555555555556,
                            "#d8576b"
                          ],
                          [
                            0.6666666666666666,
                            "#ed7953"
                          ],
                          [
                            0.7777777777777778,
                            "#fb9f3a"
                          ],
                          [
                            0.8888888888888888,
                            "#fdca26"
                          ],
                          [
                            1,
                            "#f0f921"
                          ]
                        ],
                        "type": "heatmap"
                      }
                    ],
                    "heatmapgl": [
                      {
                        "colorbar": {
                          "outlinewidth": 0,
                          "ticks": ""
                        },
                        "colorscale": [
                          [
                            0,
                            "#0d0887"
                          ],
                          [
                            0.1111111111111111,
                            "#46039f"
                          ],
                          [
                            0.2222222222222222,
                            "#7201a8"
                          ],
                          [
                            0.3333333333333333,
                            "#9c179e"
                          ],
                          [
                            0.4444444444444444,
                            "#bd3786"
                          ],
                          [
                            0.5555555555555556,
                            "#d8576b"
                          ],
                          [
                            0.6666666666666666,
                            "#ed7953"
                          ],
                          [
                            0.7777777777777778,
                            "#fb9f3a"
                          ],
                          [
                            0.8888888888888888,
                            "#fdca26"
                          ],
                          [
                            1,
                            "#f0f921"
                          ]
                        ],
                        "type": "heatmapgl"
                      }
                    ],
                    "histogram": [
                      {
                        "marker": {
                          "pattern": {
                            "fillmode": "overlay",
                            "size": 10,
                            "solidity": 0.2
                          }
                        },
                        "type": "histogram"
                      }
                    ],
                    "histogram2d": [
                      {
                        "colorbar": {
                          "outlinewidth": 0,
                          "ticks": ""
                        },
                        "colorscale": [
                          [
                            0,
                            "#0d0887"
                          ],
                          [
                            0.1111111111111111,
                            "#46039f"
                          ],
                          [
                            0.2222222222222222,
                            "#7201a8"
                          ],
                          [
                            0.3333333333333333,
                            "#9c179e"
                          ],
                          [
                            0.4444444444444444,
                            "#bd3786"
                          ],
                          [
                            0.5555555555555556,
                            "#d8576b"
                          ],
                          [
                            0.6666666666666666,
                            "#ed7953"
                          ],
                          [
                            0.7777777777777778,
                            "#fb9f3a"
                          ],
                          [
                            0.8888888888888888,
                            "#fdca26"
                          ],
                          [
                            1,
                            "#f0f921"
                          ]
                        ],
                        "type": "histogram2d"
                      }
                    ],
                    "histogram2dcontour": [
                      {
                        "colorbar": {
                          "outlinewidth": 0,
                          "ticks": ""
                        },
                        "colorscale": [
                          [
                            0,
                            "#0d0887"
                          ],
                          [
                            0.1111111111111111,
                            "#46039f"
                          ],
                          [
                            0.2222222222222222,
                            "#7201a8"
                          ],
                          [
                            0.3333333333333333,
                            "#9c179e"
                          ],
                          [
                            0.4444444444444444,
                            "#bd3786"
                          ],
                          [
                            0.5555555555555556,
                            "#d8576b"
                          ],
                          [
                            0.6666666666666666,
                            "#ed7953"
                          ],
                          [
                            0.7777777777777778,
                            "#fb9f3a"
                          ],
                          [
                            0.8888888888888888,
                            "#fdca26"
                          ],
                          [
                            1,
                            "#f0f921"
                          ]
                        ],
                        "type": "histogram2dcontour"
                      }
                    ],
                    "mesh3d": [
                      {
                        "colorbar": {
                          "outlinewidth": 0,
                          "ticks": ""
                        },
                        "type": "mesh3d"
                      }
                    ],
                    "parcoords": [
                      {
                        "line": {
                          "colorbar": {
                            "outlinewidth": 0,
                            "ticks": ""
                          }
                        },
                        "type": "parcoords"
                      }
                    ],
                    "pie": [
                      {
                        "automargin": true,
                        "type": "pie"
                      }
                    ],
                    "scatter": [
                      {
                        "marker": {
                          "colorbar": {
                            "outlinewidth": 0,
                            "ticks": ""
                          }
                        },
                        "type": "scatter"
                      }
                    ],
                    "scatter3d": [
                      {
                        "line": {
                          "colorbar": {
                            "outlinewidth": 0,
                            "ticks": ""
                          }
                        },
                        "marker": {
                          "colorbar": {
                            "outlinewidth": 0,
                            "ticks": ""
                          }
                        },
                        "type": "scatter3d"
                      }
                    ],
                    "scattercarpet": [
                      {
                        "marker": {
                          "colorbar": {
                            "outlinewidth": 0,
                            "ticks": ""
                          }
                        },
                        "type": "scattercarpet"
                      }
                    ],
                    "scattergeo": [
                      {
                        "marker": {
                          "colorbar": {
                            "outlinewidth": 0,
                            "ticks": ""
                          }
                        },
                        "type": "scattergeo"
                      }
                    ],
                    "scattergl": [
                      {
                        "marker": {
                          "colorbar": {
                            "outlinewidth": 0,
                            "ticks": ""
                          }
                        },
                        "type": "scattergl"
                      }
                    ],
                    "scattermapbox": [
                      {
                        "marker": {
                          "colorbar": {
                            "outlinewidth": 0,
                            "ticks": ""
                          }
                        },
                        "type": "scattermapbox"
                      }
                    ],
                    "scatterpolar": [
                      {
                        "marker": {
                          "colorbar": {
                            "outlinewidth": 0,
                            "ticks": ""
                          }
                        },
                        "type": "scatterpolar"
                      }
                    ],
                    "scatterpolargl": [
                      {
                        "marker": {
                          "colorbar": {
                            "outlinewidth": 0,
                            "ticks": ""
                          }
                        },
                        "type": "scatterpolargl"
                      }
                    ],
                    "scatterternary": [
                      {
                        "marker": {
                          "colorbar": {
                            "outlinewidth": 0,
                            "ticks": ""
                          }
                        },
                        "type": "scatterternary"
                      }
                    ],
                    "surface": [
                      {
                        "colorbar": {
                          "outlinewidth": 0,
                          "ticks": ""
                        },
                        "colorscale": [
                          [
                            0,
                            "#0d0887"
                          ],
                          [
                            0.1111111111111111,
                            "#46039f"
                          ],
                          [
                            0.2222222222222222,
                            "#7201a8"
                          ],
                          [
                            0.3333333333333333,
                            "#9c179e"
                          ],
                          [
                            0.4444444444444444,
                            "#bd3786"
                          ],
                          [
                            0.5555555555555556,
                            "#d8576b"
                          ],
                          [
                            0.6666666666666666,
                            "#ed7953"
                          ],
                          [
                            0.7777777777777778,
                            "#fb9f3a"
                          ],
                          [
                            0.8888888888888888,
                            "#fdca26"
                          ],
                          [
                            1,
                            "#f0f921"
                          ]
                        ],
                        "type": "surface"
                      }
                    ],
                    "table": [
                      {
                        "cells": {
                          "fill": {
                            "color": "#EBF0F8"
                          },
                          "line": {
                            "color": "white"
                          }
                        },
                        "header": {
                          "fill": {
                            "color": "#C8D4E3"
                          },
                          "line": {
                            "color": "white"
                          }
                        },
                        "type": "table"
                      }
                    ]
                  },
                  "layout": {
                    "annotationdefaults": {
                      "arrowcolor": "#2a3f5f",
                      "arrowhead": 0,
                      "arrowwidth": 1
                    },
                    "autotypenumbers": "strict",
                    "coloraxis": {
                      "colorbar": {
                        "outlinewidth": 0,
                        "ticks": ""
                      }
                    },
                    "colorscale": {
                      "diverging": [
                        [
                          0,
                          "#8e0152"
                        ],
                        [
                          0.1,
                          "#c51b7d"
                        ],
                        [
                          0.2,
                          "#de77ae"
                        ],
                        [
                          0.3,
                          "#f1b6da"
                        ],
                        [
                          0.4,
                          "#fde0ef"
                        ],
                        [
                          0.5,
                          "#f7f7f7"
                        ],
                        [
                          0.6,
                          "#e6f5d0"
                        ],
                        [
                          0.7,
                          "#b8e186"
                        ],
                        [
                          0.8,
                          "#7fbc41"
                        ],
                        [
                          0.9,
                          "#4d9221"
                        ],
                        [
                          1,
                          "#276419"
                        ]
                      ],
                      "sequential": [
                        [
                          0,
                          "#0d0887"
                        ],
                        [
                          0.1111111111111111,
                          "#46039f"
                        ],
                        [
                          0.2222222222222222,
                          "#7201a8"
                        ],
                        [
                          0.3333333333333333,
                          "#9c179e"
                        ],
                        [
                          0.4444444444444444,
                          "#bd3786"
                        ],
                        [
                          0.5555555555555556,
                          "#d8576b"
                        ],
                        [
                          0.6666666666666666,
                          "#ed7953"
                        ],
                        [
                          0.7777777777777778,
                          "#fb9f3a"
                        ],
                        [
                          0.8888888888888888,
                          "#fdca26"
                        ],
                        [
                          1,
                          "#f0f921"
                        ]
                      ],
                      "sequentialminus": [
                        [
                          0,
                          "#0d0887"
                        ],
                        [
                          0.1111111111111111,
                          "#46039f"
                        ],
                        [
                          0.2222222222222222,
                          "#7201a8"
                        ],
                        [
                          0.3333333333333333,
                          "#9c179e"
                        ],
                        [
                          0.4444444444444444,
                          "#bd3786"
                        ],
                        [
                          0.5555555555555556,
                          "#d8576b"
                        ],
                        [
                          0.6666666666666666,
                          "#ed7953"
                        ],
                        [
                          0.7777777777777778,
                          "#fb9f3a"
                        ],
                        [
                          0.8888888888888888,
                          "#fdca26"
                        ],
                        [
                          1,
                          "#f0f921"
                        ]
                      ]
                    },
                    "colorway": [
                      "#636efa",
                      "#EF553B",
                      "#00cc96",
                      "#ab63fa",
                      "#FFA15A",
                      "#19d3f3",
                      "#FF6692",
                      "#B6E880",
                      "#FF97FF",
                      "#FECB52"
                    ],
                    "font": {
                      "color": "#2a3f5f"
                    },
                    "geo": {
                      "bgcolor": "white",
                      "lakecolor": "white",
                      "landcolor": "#E5ECF6",
                      "showlakes": true,
                      "showland": true,
                      "subunitcolor": "white"
                    },
                    "hoverlabel": {
                      "align": "left"
                    },
                    "hovermode": "closest",
                    "mapbox": {
                      "style": "light"
                    },
                    "paper_bgcolor": "white",
                    "plot_bgcolor": "#E5ECF6",
                    "polar": {
                      "angularaxis": {
                        "gridcolor": "white",
                        "linecolor": "white",
                        "ticks": ""
                      },
                      "bgcolor": "#E5ECF6",
                      "radialaxis": {
                        "gridcolor": "white",
                        "linecolor": "white",
                        "ticks": ""
                      }
                    },
                    "scene": {
                      "xaxis": {
                        "backgroundcolor": "#E5ECF6",
                        "gridcolor": "white",
                        "gridwidth": 2,
                        "linecolor": "white",
                        "showbackground": true,
                        "ticks": "",
                        "zerolinecolor": "white"
                      },
                      "yaxis": {
                        "backgroundcolor": "#E5ECF6",
                        "gridcolor": "white",
                        "gridwidth": 2,
                        "linecolor": "white",
                        "showbackground": true,
                        "ticks": "",
                        "zerolinecolor": "white"
                      },
                      "zaxis": {
                        "backgroundcolor": "#E5ECF6",
                        "gridcolor": "white",
                        "gridwidth": 2,
                        "linecolor": "white",
                        "showbackground": true,
                        "ticks": "",
                        "zerolinecolor": "white"
                      }
                    },
                    "shapedefaults": {
                      "line": {
                        "color": "#2a3f5f"
                      }
                    },
                    "ternary": {
                      "aaxis": {
                        "gridcolor": "white",
                        "linecolor": "white",
                        "ticks": ""
                      },
                      "baxis": {
                        "gridcolor": "white",
                        "linecolor": "white",
                        "ticks": ""
                      },
                      "bgcolor": "#E5ECF6",
                      "caxis": {
                        "gridcolor": "white",
                        "linecolor": "white",
                        "ticks": ""
                      }
                    },
                    "title": {
                      "x": 0.05
                    },
                    "xaxis": {
                      "automargin": true,
                      "gridcolor": "white",
                      "linecolor": "white",
                      "ticks": "",
                      "title": {
                        "standoff": 15
                      },
                      "zerolinecolor": "white",
                      "zerolinewidth": 2
                    },
                    "yaxis": {
                      "automargin": true,
                      "gridcolor": "white",
                      "linecolor": "white",
                      "ticks": "",
                      "title": {
                        "standoff": 15
                      },
                      "zerolinecolor": "white",
                      "zerolinewidth": 2
                    }
                  }
                },
                "title": {
                  "text": "Words distribution"
                },
                "xaxis": {
                  "anchor": "y",
                  "domain": [
                    0,
                    1
                  ],
                  "title": {
                    "text": "word"
                  }
                },
                "yaxis": {
                  "anchor": "x",
                  "domain": [
                    0,
                    1
                  ],
                  "title": {
                    "text": "count"
                  }
                }
              }
            }
          },
          "metadata": {},
          "output_type": "display_data"
        }
      ],
      "source": [
        "import plotly.express as px\n",
        "fig = px.bar(tokens_count_df[0:100], x='word', y='count',title=\"Words distribution\")\n",
        "fig.show()"
      ]
    },
    {
      "cell_type": "markdown",
      "metadata": {
        "id": "5ZxcPfLTDMVO"
      },
      "source": [
        "#### Provide examples of processed text (some parts)\n",
        "\n",
        "Is everything all right with the result of cleaning these examples? What kind of information was lost?"
      ]
    },
    {
      "cell_type": "code",
      "execution_count": 28,
      "metadata": {},
      "outputs": [],
      "source": [
        "#firstly collect cleaned tokens in text\n",
        "full_text_clean = []\n",
        "#create full cleaned text by joining chapters\n",
        "for i in range(len(data)):\n",
        "    full_text_clean.append(' '.join(data['tokens_ns'][i]))\n",
        "data[\"full_text_clean\"] = full_text_clean"
      ]
    },
    {
      "cell_type": "code",
      "execution_count": 29,
      "metadata": {},
      "outputs": [
        {
          "name": "stdout",
          "output_type": "stream",
          "text": [
            "barnes noble whale dolphin seal harpercollins publishing zondervan paperback skip main content sign account account setting wish list order status nook store event help election read decide holiday preview see season best book save tony bennett new viva duet certified pre owned nook device starting search product book nook store nook book textbook movie tv music kid book marketplace rare book newsstand calendar home gift toy game search million product shopping bag item spend get free shipping book nook book nook textbook newsstand teen kid toy game home gift dvd music gift card close whale dolphin seal harpercollins publishing add list add list b n library favorite wish list reading new essential list create new essential list please enter list name entered invalid character please enter valid alpha numeric character please name essential list new essential list may add description list submit cancel new wish list create new wish list please enter list name entered invalid character please enter valid alpha numeric character please name wish list new wish list may add description list submit cancel first write review marketplace new used paperback list price save usually ship business day used new close sort price low high price high low condition seller rating page showing note marketplace item eligible bn coupon promotion add bag awesomebooksusa seller since thu jan est feedback rating condition new never opened used original packaging like new packaging may opened like new item suitable give gift good may minor sign wear packaging item work perfectly damage good item good condition packaging may sign shelf wear aging torn packaging specific defect noted comment section associated item acceptable item working order may show sign wear scratch torn packaging specific defect noted comment section associated item used item opened may show sign wear specific defect noted comment section associated item refurbished used item renewed updated verified proper working condition necessarily completed original manufacturer good paperback used good book good better condition dispatched day uk warehouse ship valley cottage ny usually ship business day canadian international standard state standard ak hi express state express ak hi add bag awesomebooksusa seller since thu jan est feedback rating condition good paperback used good book good better condition dispatched day uk warehouse ship valley cottage ny usually ship business day canadian international standard state standard ak hi express state express ak hi add bag extremely reliable seller since mon jan est feedback rating condition good buy confidence excellent customer service return policy ship richmond tx usually ship business day canadian international standard state standard ak hi add bag worldofbooks seller since wed feb est feedback rating condition good spiralbound good book read excellent condition page intact marred note highlighting spine remains undamaged text english french collins watch guide please note item shipping authorized seller europe event return necessary able return item within learn european seller policy see bookquest faq section read show le ship goring sea united kingdom usually ship business day canadian international standard state standard ak hi express state express ak hi add bag worldofbooks seller since wed feb est feedback rating condition good spiralbound good book read remains clean condition page intact cover intact minor wear spine text english french collins watch guide please note item shipping authorized seller europe event return necessary able return item within learn european seller policy see bookquest faq section read show le ship goring sea united kingdom usually ship business day canadian international standard state standard ak hi express state express ak hi add bag book revisited seller since tue oct edt feedback rating condition good possible retired library book marking writing ship summit nj usually ship business day canadian international standard state standard ak hi express state add bag ddbooks seller since sun sep edt feedback rating condition good good may high lighting writing ex library ship west orange nj usually ship business day canadian international standard state standard ak hi express state express ak hi add bag book revisited seller since tue oct edt feedback rating condition good good ship summit nj usually ship business day canadian international standard state standard ak hi express state add bag ddbooks seller since sun sep edt feedback rating condition good good nice copy ship west orange nj usually ship business day canadian international standard state standard ak hi express state express ak hi add bag snaylerbooks seller since thu jan est feedback rating condition good paperback good book shipped within day purchase please note item shipping authorized seller europe event return necessary able return item within learn european seller policy see bookquest faq section read show le ship bury st edmunds united kingdom usually ship business day canadian international standard state standard ak hi express state express ak hi page showing close sort price low high price high low condition seller rating overview introduction whale dolphin seal aimed child young adult black white section cover important subject including migration classification adaption environment also information see conservation fold page help immediate reference book laminated used anywhere rain seaside without risk spoiling see detail want read nook request nook book publisher thank requesting book nook book publisher sending request book overview product detail advertising overview introduction whale dolphin seal aimed child young adult black white section cover important subject including migration classification adaption environment also information see conservation fold page help immediate reference book laminated used anywhere rain seaside without risk spoiling product detail publisher zondervan publication date page series collins watch guide series product dimension w x h x customer review first write review rating distribution star star star star star find inappropriate content please report barnes noble product inappropriate publisher hold right book publisher hold right cover image inaccurate description objectionable content comment optional character limit submit cancel find b n store store hour direction event store locator read love anywhere like learn nook ipad nook iphone nook android nook pc nook mac nook web keep bn buzz b n service b n investor relation barnes noble career bn advertise publisher author guideline b n membership advanced search b n mastercard bulk order discount b n bookfair b n shipping delivery free shipping shipping shipping rate store return quick help customer service order status easy return product recall help topic sitemap accessibility term use copyright privacy policy barnesandnoble llc\n"
          ]
        }
      ],
      "source": [
        "print(data['full_text_clean'][1000])"
      ]
    },
    {
      "cell_type": "code",
      "execution_count": 49,
      "metadata": {
        "id": "2BSMfa9lDMVP"
      },
      "outputs": [
        {
          "name": "stdout",
          "output_type": "stream",
          "text": [
            "osci stock quote oscient pharmaceutical corp money home mail sign auto money sport tech hotmail messenger download airfare travel auto career job city guide dating personal food entertaining game health fitness horoscope lifestyle map direction money movie music news real estate rental shopping sport tech gadget tv weather white page wonderwall yellow page directory money live search help home news investing personal finance tax community money small business new money investing home portfolio market stock fund etf commentary broker name symbol dow nasdaq p market closed osci quote quote real time quote option snapshot chart historical real time intraday news info recent news key development message board fundamental company report sec filing earnings estimate financial result insider trading ownership research advisor fyi cap stockscouter analyst rating guided research research wizard expert pick find stock stock screener stock power search top rated stock site map related link mail alert ipo center capital gain add watchlist add list print report get quote oscient pharmaceutical corp osci customize osci quote nasdaq exchange fyi hour vol previous close bid fyi open bid size day high ask day low ask size volume mil week high avg daily vol wk mil week low osci intraday chart beta dividend yield na earnings share forward p na market cap mil p return equity na total share mil quote delayed min unless otherwise indicated last trade extended hour pm et financial data dollar latest quote osci news osci oscient pharmaceutical cut sale force associated press view osci news press release oscient pharmaceutical discontinues sale force promotion antara factive business wire oscient pharmaceutical receives nasdaq letter regarding delay filing form business wire view osci news video osci biotech stock sign technology discus smallpox anti viral drug oculus highlight microcyn whose result drew praise fda maxigen update drug progress sponsor stock rating community stock rating stock rated cap rating user rated stock learn cap today top stock rating read full report stockscouter work analyst recommendation recommendation hold view analyst rating information osci financial highlight sale mil income mil sale growth income growth net profit margin debt equity ratio na last month financial information fund osci fund name bruce fund vanguard extended market index fund dfa micro cap series view fund advertisement market update et sign sell stock successful investing avoiding disastrous loss spot clunkers price tank start investing much invest biggest mistake market news market talk jim jubak message board anyone venturing commodity dxcm time call bull market gm bankruputcy court letter recieved mail conservative option trade go market talk jim jubak message board advertisement data provider copyright thomson reuters click restriction free real time quote provided bat exchange analyst recommendation data provided zacks investment research quote supplied interactive data stockscouter data provided gradient analytics page generated eastern time privacy legal advertise help feedback site map microsoft\n"
          ]
        }
      ],
      "source": [
        "print(data['full_text_clean'][50001])"
      ]
    },
    {
      "cell_type": "markdown",
      "metadata": {
        "id": "IlSeYg4sDMVQ"
      },
      "source": [
        "# [10 points] Part 2. Duplicates detection. LSH"
      ]
    },
    {
      "cell_type": "markdown",
      "metadata": {
        "id": "ZuMBHSiDDMVR"
      },
      "source": [
        "#### Libraries you can use\n",
        "\n",
        "1. LSH - https://github.com/ekzhu/datasketch\n",
        "1. LSH - https://github.com/mattilyra/LSH\n",
        "1. Any other library on your choise"
      ]
    },
    {
      "cell_type": "markdown",
      "metadata": {
        "id": "uff5aBpgDMVR"
      },
      "source": [
        "1. Detect duplicated text (duplicates do not imply a complete word-to-word match, but texts that may contain a paraphrase, rearrangement of words, sentences)\n",
        "1. Make a plot dependency of duplicates on shingle size (with fixed minhash length) \n",
        "1. Make a plot dependency of duplicates on minhash length (with fixed shingle size)"
      ]
    },
    {
      "cell_type": "code",
      "execution_count": 31,
      "metadata": {
        "id": "QOFZ7AvyDMVS"
      },
      "outputs": [],
      "source": [
        "from datasketch import MinHash, MinHashLSH\n",
        "from nltk import ngrams\n",
        "\n"
      ]
    },
    {
      "cell_type": "code",
      "execution_count": 32,
      "metadata": {
        "id": "HPonm9U3DMVS"
      },
      "outputs": [],
      "source": [
        "def duplicates_number_detection(perm=128, n_gr = 2):\n",
        "  lsh = MinHashLSH(threshold=0.4, num_perm=perm)\n",
        "\n",
        "  # Create MinHash objects\n",
        "  minhashes = {}\n",
        "  for c, i in enumerate(data['tokens_ns']):\n",
        "    minhash = MinHash(num_perm=perm)\n",
        "    #print(i)\n",
        "    for d in ngrams(i, n_gr):\n",
        "      #print(d)\n",
        "      minhash.update(\"\".join(d).encode('utf-8'))\n",
        "    lsh.insert(c, minhash)\n",
        "    minhashes[c] = minhash\n",
        "\n",
        "\n",
        "  dupl_pairs = 0\n",
        "  for i in range(len(minhashes.keys())):\n",
        "    result = lsh.query(minhashes[i])\n",
        "    dupl_pairs += len(result) -1\n",
        "  return dupl_pairs/2"
      ]
    },
    {
      "cell_type": "code",
      "execution_count": 34,
      "metadata": {},
      "outputs": [
        {
          "name": "stdout",
          "output_type": "stream",
          "text": [
            "40\n",
            "60\n",
            "80\n",
            "100\n",
            "128\n"
          ]
        }
      ],
      "source": [
        "per_list = []\n",
        "ngr_list = []\n",
        "duplicates_list = []\n",
        "for i in [40,60,80,100,128]:\n",
        "    print(i)\n",
        "    per_list.append(i)\n",
        "    duplicates_list.append(duplicates_number_detection(i,3))"
      ]
    },
    {
      "cell_type": "code",
      "execution_count": 35,
      "metadata": {},
      "outputs": [],
      "source": [
        "duplicates_df = pd.DataFrame()\n",
        "duplicates_df['permutations'] = per_list\n",
        "duplicates_df['duplicates'] = list(map(int, duplicates_list))"
      ]
    },
    {
      "cell_type": "code",
      "execution_count": 36,
      "metadata": {},
      "outputs": [
        {
          "data": {
            "text/html": [
              "<div>\n",
              "<style scoped>\n",
              "    .dataframe tbody tr th:only-of-type {\n",
              "        vertical-align: middle;\n",
              "    }\n",
              "\n",
              "    .dataframe tbody tr th {\n",
              "        vertical-align: top;\n",
              "    }\n",
              "\n",
              "    .dataframe thead th {\n",
              "        text-align: right;\n",
              "    }\n",
              "</style>\n",
              "<table border=\"1\" class=\"dataframe\">\n",
              "  <thead>\n",
              "    <tr style=\"text-align: right;\">\n",
              "      <th></th>\n",
              "      <th>permutations</th>\n",
              "      <th>duplicates</th>\n",
              "    </tr>\n",
              "  </thead>\n",
              "  <tbody>\n",
              "    <tr>\n",
              "      <th>0</th>\n",
              "      <td>40</td>\n",
              "      <td>88415439</td>\n",
              "    </tr>\n",
              "    <tr>\n",
              "      <th>1</th>\n",
              "      <td>60</td>\n",
              "      <td>90616458</td>\n",
              "    </tr>\n",
              "    <tr>\n",
              "      <th>2</th>\n",
              "      <td>80</td>\n",
              "      <td>78918778</td>\n",
              "    </tr>\n",
              "    <tr>\n",
              "      <th>3</th>\n",
              "      <td>100</td>\n",
              "      <td>84370370</td>\n",
              "    </tr>\n",
              "    <tr>\n",
              "      <th>4</th>\n",
              "      <td>128</td>\n",
              "      <td>88459291</td>\n",
              "    </tr>\n",
              "  </tbody>\n",
              "</table>\n",
              "</div>"
            ],
            "text/plain": [
              "   permutations  duplicates\n",
              "0            40    88415439\n",
              "1            60    90616458\n",
              "2            80    78918778\n",
              "3           100    84370370\n",
              "4           128    88459291"
            ]
          },
          "execution_count": 36,
          "metadata": {},
          "output_type": "execute_result"
        }
      ],
      "source": [
        "duplicates_df"
      ]
    },
    {
      "cell_type": "code",
      "execution_count": 39,
      "metadata": {},
      "outputs": [],
      "source": [
        "import matplotlib.pyplot as plt"
      ]
    },
    {
      "cell_type": "code",
      "execution_count": 47,
      "metadata": {},
      "outputs": [
        {
          "data": {
            "image/png": "[encoded data removed]",
            "text/plain": [
              "<Figure size 432x288 with 1 Axes>"
            ]
          },
          "metadata": {
            "needs_background": "light"
          },
          "output_type": "display_data"
        }
      ],
      "source": [
        "plt.bar([str(x) for x in duplicates_df['permutations']],duplicates_df['duplicates'])\n",
        "plt.xlabel('permutations')\n",
        "plt.ylabel('duplicates pairs')\n",
        "plt.title('Number of duplicated pairs with fixed number of ngrams = 3',pad=20)\n",
        "plt.show()"
      ]
    },
    {
      "cell_type": "code",
      "execution_count": 42,
      "metadata": {},
      "outputs": [
        {
          "name": "stdout",
          "output_type": "stream",
          "text": [
            "1\n",
            "2\n",
            "3\n",
            "4\n",
            "5\n"
          ]
        }
      ],
      "source": [
        "ngr_list = []\n",
        "duplicates_list = []\n",
        "for i in [1,2,3,4,5]:\n",
        "    print(i)\n",
        "    ngr_list.append(i)\n",
        "    duplicates_list.append(duplicates_number_detection(128,i))"
      ]
    },
    {
      "cell_type": "code",
      "execution_count": 45,
      "metadata": {},
      "outputs": [
        {
          "data": {
            "image/png": "[encoded data removed]",
            "text/plain": [
              "<Figure size 432x288 with 1 Axes>"
            ]
          },
          "metadata": {
            "needs_background": "light"
          },
          "output_type": "display_data"
        }
      ],
      "source": [
        "plt.bar([str(x) for x in ngr_list],duplicates_list)\n",
        "plt.xlabel('ngrams')\n",
        "plt.ylabel('duplicates pairs')\n",
        "plt.title('Number of duplicated pairs with fixed number of permutations = 128',pad=20)\n",
        "plt.show()"
      ]
    },
    {
      "cell_type": "markdown",
      "metadata": {
        "id": "njdTa1daDMVS"
      },
      "source": [
        "# [Optional 10 points] Part 3. Topic model"
      ]
    },
    {
      "cell_type": "markdown",
      "metadata": {},
      "source": [
        "#IN SECOND FILE"
      ]
    }
  ],
  "metadata": {
    "colab": {
      "name": "Copy of HW1.ipynb",
      "provenance": []
    },
    "kernelspec": {
      "display_name": "Python 3",
      "language": "python",
      "name": "python3"
    },
    "language_info": {
      "codemirror_mode": {
        "name": "ipython",
        "version": 3
      },
      "file_extension": ".py",
      "mimetype": "text/x-python",
      "name": "python",
      "nbconvert_exporter": "python",
      "pygments_lexer": "ipython3",
      "version": "3.10.2"
    }
  },
  "nbformat": 4,
  "nbformat_minor": 0
}
