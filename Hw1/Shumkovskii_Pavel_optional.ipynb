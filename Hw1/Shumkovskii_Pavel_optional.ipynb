{
  "nbformat": 4,
  "nbformat_minor": 0,
  "metadata": {
    "colab": {
      "name": "NLP_hw1_opt.ipynb",
      "provenance": [],
      "collapsed_sections": []
    },
    "kernelspec": {
      "name": "python3",
      "display_name": "Python 3"
    },
    "language_info": {
      "name": "python"
    }
  },
  "cells": [
    {
      "cell_type": "code",
      "execution_count": 1,
      "metadata": {
        "colab": {
          "base_uri": "https://localhost:8080/"
        },
        "id": "Lz1GdNteDiDQ",
        "outputId": "89b9ad6d-e34e-4f69-a57e-a6437a91e3a6"
      },
      "outputs": [
        {
          "output_type": "stream",
          "name": "stdout",
          "text": [
            "[nltk_data] Downloading package stopwords to /root/nltk_data...\n",
            "[nltk_data]   Unzipping corpora/stopwords.zip.\n"
          ]
        }
      ],
      "source": [
        "'''Packages'''\n",
        "import re\n",
        "import codecs\n",
        "import pandas as pd\n",
        "from nltk.tokenize import TreebankWordTokenizer, WhitespaceTokenizer\n",
        "from nltk.corpus import stopwords\n",
        "import numpy as np\n",
        "import nltk\n",
        "from nltk.stem import PorterStemmer, WordNetLemmatizer\n",
        "from heapq import nlargest\n",
        "from operator import itemgetter\n",
        "from collections import Counter\n",
        "from nltk import tokenize\n",
        "from nltk.corpus import wordnet as wn\n",
        "from nltk.tokenize import word_tokenize\n",
        "import spacy\n",
        "from bs4 import BeautifulSoup\n",
        "nltk.download('stopwords')\n",
        "import warnings\n",
        "warnings.filterwarnings(\"ignore\")\n",
        "from sklearn.decomposition import NMF\n",
        "from gensim.models.coherencemodel import CoherenceModel\n"
      ]
    },
    {
      "cell_type": "code",
      "source": [
        "import warnings\n",
        "warnings.filterwarnings(\"ignore\", category=DeprecationWarning) "
      ],
      "metadata": {
        "id": "L_4hGFMjYjdQ"
      },
      "execution_count": 91,
      "outputs": []
    },
    {
      "cell_type": "code",
      "source": [
        "import nltk\n",
        "nltk.download('wordnet')\n"
      ],
      "metadata": {
        "colab": {
          "base_uri": "https://localhost:8080/"
        },
        "id": "SN2e0UghEdDq",
        "outputId": "360d5a71-8963-4bca-f928-677a05ab1328"
      },
      "execution_count": 2,
      "outputs": [
        {
          "output_type": "stream",
          "name": "stdout",
          "text": [
            "[nltk_data] Downloading package wordnet to /root/nltk_data...\n",
            "[nltk_data]   Unzipping corpora/wordnet.zip.\n"
          ]
        },
        {
          "output_type": "execute_result",
          "data": {
            "text/plain": [
              "True"
            ]
          },
          "metadata": {},
          "execution_count": 2
        }
      ]
    },
    {
      "cell_type": "markdown",
      "source": [
        "#  Preprocess dataset with the functions from the Part 1"
      ],
      "metadata": {
        "id": "Ss1BjQCXa4_Y"
      }
    },
    {
      "cell_type": "code",
      "source": [
        "data_optional = pd.read_csv(\"data_optional.csv\")"
      ],
      "metadata": {
        "id": "9AV8LVmWEEwZ"
      },
      "execution_count": 3,
      "outputs": []
    },
    {
      "cell_type": "code",
      "source": [
        "#remove all except words\n",
        "data_optional['text_original'] =  data_optional['text']\n",
        "for i in range(len(data_optional)):\n",
        "    data_optional['text'][i] = re.sub('([^A-Za-z0-9 ]|[^ ]*[0-9][^ ]*)', ' ', data_optional['text'][i]).lower()"
      ],
      "metadata": {
        "id": "hBFcxBLzEMrM"
      },
      "execution_count": 4,
      "outputs": []
    },
    {
      "cell_type": "code",
      "source": [
        "#tokenizer\n",
        "array_for_tokens = []\n",
        "for i in range(len(data_optional)):\n",
        "    array_for_tokens.append(TreebankWordTokenizer().tokenize(data_optional[\"text\"][i]))\n",
        "\n",
        "\n",
        "data_optional['tokens'] = array_for_tokens\n",
        "\n",
        "#stopwords \n",
        "from nltk.corpus import stopwords\n",
        "stop_words = stopwords.words(\"english\")\n",
        "\n",
        "\n",
        "lemmatizer = WordNetLemmatizer()\n",
        "stemmer = PorterStemmer()\n",
        "\n",
        "\n",
        "clean = []\n",
        "stop_my_words = ['com','u', 'inc', 'msn']\n",
        "for i in range(len(data_optional)):\n",
        "    #deleting stopwords\n",
        "    tokens_ns = [token for token in data_optional[\"tokens\"][i] if token not in stop_words]\n",
        "    tokens_ns2 = [token for token in tokens_ns if token not in stop_my_words]\n",
        "    #lemmatization\n",
        "    clean.append([lemmatizer.lemmatize(token) for token in tokens_ns2])\n",
        "\n",
        "\n",
        "\n",
        "data_optional['tokens_ns'] = clean\n",
        "\n",
        "data_optional[\"text_cleaned\"] = [' '.join(i) for i in data_optional[\"tokens_ns\"]]\n",
        "\n",
        "data_optional.head()"
      ],
      "metadata": {
        "colab": {
          "base_uri": "https://localhost:8080/",
          "height": 337
        },
        "id": "ImcE7JwXEShO",
        "outputId": "86989fb9-50fc-499d-e3b6-cb86d3496f61"
      },
      "execution_count": 5,
      "outputs": [
        {
          "output_type": "execute_result",
          "data": {
            "text/plain": [
              "        id                                               text author  \\\n",
              "0  id26305  this process  however  afforded me no means of...    EAP   \n",
              "1  id17569  it never once occurred to me that the fumbling...    HPL   \n",
              "2  id11008  in his left hand was a gold snuff box  from wh...    EAP   \n",
              "3  id27763  how lovely is spring as we looked from windsor...    MWS   \n",
              "4  id12958  finding nothing else  not even gold  the super...    HPL   \n",
              "\n",
              "                                       text_original  \\\n",
              "0  This process, however, afforded me no means of...   \n",
              "1  It never once occurred to me that the fumbling...   \n",
              "2  In his left hand was a gold snuff box, from wh...   \n",
              "3  How lovely is spring As we looked from Windsor...   \n",
              "4  Finding nothing else, not even gold, the Super...   \n",
              "\n",
              "                                              tokens  \\\n",
              "0  [this, process, however, afforded, me, no, mea...   \n",
              "1  [it, never, once, occurred, to, me, that, the,...   \n",
              "2  [in, his, left, hand, was, a, gold, snuff, box...   \n",
              "3  [how, lovely, is, spring, as, we, looked, from...   \n",
              "4  [finding, nothing, else, not, even, gold, the,...   \n",
              "\n",
              "                                           tokens_ns  \\\n",
              "0  [process, however, afforded, mean, ascertainin...   \n",
              "1  [never, occurred, fumbling, might, mere, mistake]   \n",
              "2  [left, hand, gold, snuff, box, capered, hill, ...   \n",
              "3  [lovely, spring, looked, windsor, terrace, six...   \n",
              "4  [finding, nothing, else, even, gold, superinte...   \n",
              "\n",
              "                                        text_cleaned  \n",
              "0  process however afforded mean ascertaining dim...  \n",
              "1         never occurred fumbling might mere mistake  \n",
              "2  left hand gold snuff box capered hill cutting ...  \n",
              "3  lovely spring looked windsor terrace sixteen f...  \n",
              "4  finding nothing else even gold superintendent ...  "
            ],
            "text/html": [
              "\n",
              "  <div id=\"df-27e12c73-ca0d-46ef-a74e-8b6e4b4c9a18\">\n",
              "    <div class=\"colab-df-container\">\n",
              "      <div>\n",
              "<style scoped>\n",
              "    .dataframe tbody tr th:only-of-type {\n",
              "        vertical-align: middle;\n",
              "    }\n",
              "\n",
              "    .dataframe tbody tr th {\n",
              "        vertical-align: top;\n",
              "    }\n",
              "\n",
              "    .dataframe thead th {\n",
              "        text-align: right;\n",
              "    }\n",
              "</style>\n",
              "<table border=\"1\" class=\"dataframe\">\n",
              "  <thead>\n",
              "    <tr style=\"text-align: right;\">\n",
              "      <th></th>\n",
              "      <th>id</th>\n",
              "      <th>text</th>\n",
              "      <th>author</th>\n",
              "      <th>text_original</th>\n",
              "      <th>tokens</th>\n",
              "      <th>tokens_ns</th>\n",
              "      <th>text_cleaned</th>\n",
              "    </tr>\n",
              "  </thead>\n",
              "  <tbody>\n",
              "    <tr>\n",
              "      <th>0</th>\n",
              "      <td>id26305</td>\n",
              "      <td>this process  however  afforded me no means of...</td>\n",
              "      <td>EAP</td>\n",
              "      <td>This process, however, afforded me no means of...</td>\n",
              "      <td>[this, process, however, afforded, me, no, mea...</td>\n",
              "      <td>[process, however, afforded, mean, ascertainin...</td>\n",
              "      <td>process however afforded mean ascertaining dim...</td>\n",
              "    </tr>\n",
              "    <tr>\n",
              "      <th>1</th>\n",
              "      <td>id17569</td>\n",
              "      <td>it never once occurred to me that the fumbling...</td>\n",
              "      <td>HPL</td>\n",
              "      <td>It never once occurred to me that the fumbling...</td>\n",
              "      <td>[it, never, once, occurred, to, me, that, the,...</td>\n",
              "      <td>[never, occurred, fumbling, might, mere, mistake]</td>\n",
              "      <td>never occurred fumbling might mere mistake</td>\n",
              "    </tr>\n",
              "    <tr>\n",
              "      <th>2</th>\n",
              "      <td>id11008</td>\n",
              "      <td>in his left hand was a gold snuff box  from wh...</td>\n",
              "      <td>EAP</td>\n",
              "      <td>In his left hand was a gold snuff box, from wh...</td>\n",
              "      <td>[in, his, left, hand, was, a, gold, snuff, box...</td>\n",
              "      <td>[left, hand, gold, snuff, box, capered, hill, ...</td>\n",
              "      <td>left hand gold snuff box capered hill cutting ...</td>\n",
              "    </tr>\n",
              "    <tr>\n",
              "      <th>3</th>\n",
              "      <td>id27763</td>\n",
              "      <td>how lovely is spring as we looked from windsor...</td>\n",
              "      <td>MWS</td>\n",
              "      <td>How lovely is spring As we looked from Windsor...</td>\n",
              "      <td>[how, lovely, is, spring, as, we, looked, from...</td>\n",
              "      <td>[lovely, spring, looked, windsor, terrace, six...</td>\n",
              "      <td>lovely spring looked windsor terrace sixteen f...</td>\n",
              "    </tr>\n",
              "    <tr>\n",
              "      <th>4</th>\n",
              "      <td>id12958</td>\n",
              "      <td>finding nothing else  not even gold  the super...</td>\n",
              "      <td>HPL</td>\n",
              "      <td>Finding nothing else, not even gold, the Super...</td>\n",
              "      <td>[finding, nothing, else, not, even, gold, the,...</td>\n",
              "      <td>[finding, nothing, else, even, gold, superinte...</td>\n",
              "      <td>finding nothing else even gold superintendent ...</td>\n",
              "    </tr>\n",
              "  </tbody>\n",
              "</table>\n",
              "</div>\n",
              "      <button class=\"colab-df-convert\" onclick=\"convertToInteractive('df-27e12c73-ca0d-46ef-a74e-8b6e4b4c9a18')\"\n",
              "              title=\"Convert this dataframe to an interactive table.\"\n",
              "              style=\"display:none;\">\n",
              "        \n",
              "  <svg xmlns=\"http://www.w3.org/2000/svg\" height=\"24px\"viewBox=\"0 0 24 24\"\n",
              "       width=\"24px\">\n",
              "    <path d=\"M0 0h24v24H0V0z\" fill=\"none\"/>\n",
              "    <path d=\"M18.56 5.44l.94 2.06.94-2.06 2.06-.94-2.06-.94-.94-2.06-.94 2.06-2.06.94zm-11 1L8.5 8.5l.94-2.06 2.06-.94-2.06-.94L8.5 2.5l-.94 2.06-2.06.94zm10 10l.94 2.06.94-2.06 2.06-.94-2.06-.94-.94-2.06-.94 2.06-2.06.94z\"/><path d=\"M17.41 7.96l-1.37-1.37c-.4-.4-.92-.59-1.43-.59-.52 0-1.04.2-1.43.59L10.3 9.45l-7.72 7.72c-.78.78-.78 2.05 0 2.83L4 21.41c.39.39.9.59 1.41.59.51 0 1.02-.2 1.41-.59l7.78-7.78 2.81-2.81c.8-.78.8-2.07 0-2.86zM5.41 20L4 18.59l7.72-7.72 1.47 1.35L5.41 20z\"/>\n",
              "  </svg>\n",
              "      </button>\n",
              "      \n",
              "  <style>\n",
              "    .colab-df-container {\n",
              "      display:flex;\n",
              "      flex-wrap:wrap;\n",
              "      gap: 12px;\n",
              "    }\n",
              "\n",
              "    .colab-df-convert {\n",
              "      background-color: #E8F0FE;\n",
              "      border: none;\n",
              "      border-radius: 50%;\n",
              "      cursor: pointer;\n",
              "      display: none;\n",
              "      fill: #1967D2;\n",
              "      height: 32px;\n",
              "      padding: 0 0 0 0;\n",
              "      width: 32px;\n",
              "    }\n",
              "\n",
              "    .colab-df-convert:hover {\n",
              "      background-color: #E2EBFA;\n",
              "      box-shadow: 0px 1px 2px rgba(60, 64, 67, 0.3), 0px 1px 3px 1px rgba(60, 64, 67, 0.15);\n",
              "      fill: #174EA6;\n",
              "    }\n",
              "\n",
              "    [theme=dark] .colab-df-convert {\n",
              "      background-color: #3B4455;\n",
              "      fill: #D2E3FC;\n",
              "    }\n",
              "\n",
              "    [theme=dark] .colab-df-convert:hover {\n",
              "      background-color: #434B5C;\n",
              "      box-shadow: 0px 1px 3px 1px rgba(0, 0, 0, 0.15);\n",
              "      filter: drop-shadow(0px 1px 2px rgba(0, 0, 0, 0.3));\n",
              "      fill: #FFFFFF;\n",
              "    }\n",
              "  </style>\n",
              "\n",
              "      <script>\n",
              "        const buttonEl =\n",
              "          document.querySelector('#df-27e12c73-ca0d-46ef-a74e-8b6e4b4c9a18 button.colab-df-convert');\n",
              "        buttonEl.style.display =\n",
              "          google.colab.kernel.accessAllowed ? 'block' : 'none';\n",
              "\n",
              "        async function convertToInteractive(key) {\n",
              "          const element = document.querySelector('#df-27e12c73-ca0d-46ef-a74e-8b6e4b4c9a18');\n",
              "          const dataTable =\n",
              "            await google.colab.kernel.invokeFunction('convertToInteractive',\n",
              "                                                     [key], {});\n",
              "          if (!dataTable) return;\n",
              "\n",
              "          const docLinkHtml = 'Like what you see? Visit the ' +\n",
              "            '<a target=\"_blank\" href=https://colab.research.google.com/notebooks/data_table.ipynb>data table notebook</a>'\n",
              "            + ' to learn more about interactive tables.';\n",
              "          element.innerHTML = '';\n",
              "          dataTable['output_type'] = 'display_data';\n",
              "          await google.colab.output.renderOutput(dataTable, element);\n",
              "          const docLink = document.createElement('div');\n",
              "          docLink.innerHTML = docLinkHtml;\n",
              "          element.appendChild(docLink);\n",
              "        }\n",
              "      </script>\n",
              "    </div>\n",
              "  </div>\n",
              "  "
            ]
          },
          "metadata": {},
          "execution_count": 5
        }
      ]
    },
    {
      "cell_type": "code",
      "source": [
        "data_train = data_optional"
      ],
      "metadata": {
        "id": "ilyuwd1SEj__"
      },
      "execution_count": 6,
      "outputs": []
    },
    {
      "cell_type": "code",
      "source": [
        "#train\n",
        "flat_list_train = [item for sublist in data_train['tokens_ns'] for item in sublist]\n",
        "tokens_train =  Counter(flat_list_train)\n",
        "tokens_count_df_train =  pd.DataFrame.from_dict(tokens_train, orient='index').reset_index()\n",
        "tokens_count_df_train.columns = ['word','count']\n",
        "tokens_count_df_train = tokens_count_df_train.sort_values(by=['count'],ascending=False)\n",
        "import plotly.express as px\n",
        "fig = px.bar(tokens_count_df_train[0:100], x='word', y='count',title=\"Words histogram train\")\n",
        "fig.show()"
      ],
      "metadata": {
        "colab": {
          "base_uri": "https://localhost:8080/",
          "height": 542
        },
        "id": "Ns7vBkNIEnlY",
        "outputId": "82cbe5fc-fd68-4965-fc60-917a035c0215"
      },
      "execution_count": 7,
      "outputs": [
        {
          "output_type": "display_data",
          "data": {
            "text/html": [
              "<html>\n",
              "<head><meta charset=\"utf-8\" /></head>\n",
              "<body>\n",
              "    <div>            <script src=\"https://cdnjs.cloudflare.com/ajax/libs/mathjax/2.7.5/MathJax.js?config=TeX-AMS-MML_SVG\"></script><script type=\"text/javascript\">if (window.MathJax) {MathJax.Hub.Config({SVG: {font: \"STIX-Web\"}});}</script>                <script type=\"text/javascript\">window.PlotlyConfig = {MathJaxConfig: 'local'};</script>\n",
              "        <script src=\"https://cdn.plot.ly/plotly-2.8.3.min.js\"></script>                <div id=\"aa83ba07-70fb-4a7a-8901-a5ec407aa6c3\" class=\"plotly-graph-div\" style=\"height:525px; width:100%;\"></div>            <script type=\"text/javascript\">                                    window.PLOTLYENV=window.PLOTLYENV || {};                                    if (document.getElementById(\"aa83ba07-70fb-4a7a-8901-a5ec407aa6c3\")) {                    Plotly.newPlot(                        \"aa83ba07-70fb-4a7a-8901-a5ec407aa6c3\",                        [{\"alignmentgroup\":\"True\",\"hovertemplate\":\"word=%{x}<br>count=%{y}<extra></extra>\",\"legendgroup\":\"\",\"marker\":{\"color\":\"#636efa\",\"pattern\":{\"shape\":\"\"}},\"name\":\"\",\"offsetgroup\":\"\",\"orientation\":\"v\",\"showlegend\":false,\"textposition\":\"auto\",\"x\":[\"one\",\"upon\",\"could\",\"would\",\"time\",\"man\",\"day\",\"thing\",\"yet\",\"eye\",\"said\",\"even\",\"might\",\"old\",\"u\",\"like\",\"life\",\"first\",\"must\",\"night\",\"thought\",\"never\",\"made\",\"found\",\"seemed\",\"every\",\"little\",\"still\",\"great\",\"long\",\"saw\",\"many\",\"say\",\"well\",\"house\",\"came\",\"much\",\"hand\",\"year\",\"may\",\"two\",\"word\",\"see\",\"death\",\"ever\",\"heart\",\"thus\",\"mind\",\"place\",\"whose\",\"friend\",\"without\",\"far\",\"know\",\"shall\",\"heard\",\"men\",\"light\",\"however\",\"left\",\"door\",\"room\",\"felt\",\"love\",\"come\",\"last\",\"hour\",\"earth\",\"world\",\"head\",\"way\",\"voice\",\"make\",\"though\",\"indeed\",\"moment\",\"back\",\"le\",\"let\",\"within\",\"fear\",\"nothing\",\"whole\",\"dream\",\"away\",\"became\",\"part\",\"nature\",\"father\",\"body\",\"strange\",\"seen\",\"good\",\"length\",\"among\",\"human\",\"hope\",\"knew\",\"raymond\",\"soon\"],\"xaxis\":\"x\",\"y\":[1676,1411,1316,1241,869,779,743,725,715,707,704,701,629,616,613,613,609,602,594,586,576,570,565,559,544,535,531,520,512,511,503,491,488,475,465,461,459,451,445,442,433,428,421,419,408,408,405,401,401,401,385,377,376,370,368,366,363,361,358,354,343,343,343,341,340,339,337,337,336,327,325,322,319,318,316,308,306,302,300,300,300,299,297,295,295,295,293,292,285,283,283,282,281,280,280,275,274,273,272,270],\"yaxis\":\"y\",\"type\":\"bar\"}],                        {\"template\":{\"data\":{\"bar\":[{\"error_x\":{\"color\":\"#2a3f5f\"},\"error_y\":{\"color\":\"#2a3f5f\"},\"marker\":{\"line\":{\"color\":\"#E5ECF6\",\"width\":0.5},\"pattern\":{\"fillmode\":\"overlay\",\"size\":10,\"solidity\":0.2}},\"type\":\"bar\"}],\"barpolar\":[{\"marker\":{\"line\":{\"color\":\"#E5ECF6\",\"width\":0.5},\"pattern\":{\"fillmode\":\"overlay\",\"size\":10,\"solidity\":0.2}},\"type\":\"barpolar\"}],\"carpet\":[{\"aaxis\":{\"endlinecolor\":\"#2a3f5f\",\"gridcolor\":\"white\",\"linecolor\":\"white\",\"minorgridcolor\":\"white\",\"startlinecolor\":\"#2a3f5f\"},\"baxis\":{\"endlinecolor\":\"#2a3f5f\",\"gridcolor\":\"white\",\"linecolor\":\"white\",\"minorgridcolor\":\"white\",\"startlinecolor\":\"#2a3f5f\"},\"type\":\"carpet\"}],\"choropleth\":[{\"colorbar\":{\"outlinewidth\":0,\"ticks\":\"\"},\"type\":\"choropleth\"}],\"contour\":[{\"colorbar\":{\"outlinewidth\":0,\"ticks\":\"\"},\"colorscale\":[[0.0,\"#0d0887\"],[0.1111111111111111,\"#46039f\"],[0.2222222222222222,\"#7201a8\"],[0.3333333333333333,\"#9c179e\"],[0.4444444444444444,\"#bd3786\"],[0.5555555555555556,\"#d8576b\"],[0.6666666666666666,\"#ed7953\"],[0.7777777777777778,\"#fb9f3a\"],[0.8888888888888888,\"#fdca26\"],[1.0,\"#f0f921\"]],\"type\":\"contour\"}],\"contourcarpet\":[{\"colorbar\":{\"outlinewidth\":0,\"ticks\":\"\"},\"type\":\"contourcarpet\"}],\"heatmap\":[{\"colorbar\":{\"outlinewidth\":0,\"ticks\":\"\"},\"colorscale\":[[0.0,\"#0d0887\"],[0.1111111111111111,\"#46039f\"],[0.2222222222222222,\"#7201a8\"],[0.3333333333333333,\"#9c179e\"],[0.4444444444444444,\"#bd3786\"],[0.5555555555555556,\"#d8576b\"],[0.6666666666666666,\"#ed7953\"],[0.7777777777777778,\"#fb9f3a\"],[0.8888888888888888,\"#fdca26\"],[1.0,\"#f0f921\"]],\"type\":\"heatmap\"}],\"heatmapgl\":[{\"colorbar\":{\"outlinewidth\":0,\"ticks\":\"\"},\"colorscale\":[[0.0,\"#0d0887\"],[0.1111111111111111,\"#46039f\"],[0.2222222222222222,\"#7201a8\"],[0.3333333333333333,\"#9c179e\"],[0.4444444444444444,\"#bd3786\"],[0.5555555555555556,\"#d8576b\"],[0.6666666666666666,\"#ed7953\"],[0.7777777777777778,\"#fb9f3a\"],[0.8888888888888888,\"#fdca26\"],[1.0,\"#f0f921\"]],\"type\":\"heatmapgl\"}],\"histogram\":[{\"marker\":{\"pattern\":{\"fillmode\":\"overlay\",\"size\":10,\"solidity\":0.2}},\"type\":\"histogram\"}],\"histogram2d\":[{\"colorbar\":{\"outlinewidth\":0,\"ticks\":\"\"},\"colorscale\":[[0.0,\"#0d0887\"],[0.1111111111111111,\"#46039f\"],[0.2222222222222222,\"#7201a8\"],[0.3333333333333333,\"#9c179e\"],[0.4444444444444444,\"#bd3786\"],[0.5555555555555556,\"#d8576b\"],[0.6666666666666666,\"#ed7953\"],[0.7777777777777778,\"#fb9f3a\"],[0.8888888888888888,\"#fdca26\"],[1.0,\"#f0f921\"]],\"type\":\"histogram2d\"}],\"histogram2dcontour\":[{\"colorbar\":{\"outlinewidth\":0,\"ticks\":\"\"},\"colorscale\":[[0.0,\"#0d0887\"],[0.1111111111111111,\"#46039f\"],[0.2222222222222222,\"#7201a8\"],[0.3333333333333333,\"#9c179e\"],[0.4444444444444444,\"#bd3786\"],[0.5555555555555556,\"#d8576b\"],[0.6666666666666666,\"#ed7953\"],[0.7777777777777778,\"#fb9f3a\"],[0.8888888888888888,\"#fdca26\"],[1.0,\"#f0f921\"]],\"type\":\"histogram2dcontour\"}],\"mesh3d\":[{\"colorbar\":{\"outlinewidth\":0,\"ticks\":\"\"},\"type\":\"mesh3d\"}],\"parcoords\":[{\"line\":{\"colorbar\":{\"outlinewidth\":0,\"ticks\":\"\"}},\"type\":\"parcoords\"}],\"pie\":[{\"automargin\":true,\"type\":\"pie\"}],\"scatter\":[{\"marker\":{\"colorbar\":{\"outlinewidth\":0,\"ticks\":\"\"}},\"type\":\"scatter\"}],\"scatter3d\":[{\"line\":{\"colorbar\":{\"outlinewidth\":0,\"ticks\":\"\"}},\"marker\":{\"colorbar\":{\"outlinewidth\":0,\"ticks\":\"\"}},\"type\":\"scatter3d\"}],\"scattercarpet\":[{\"marker\":{\"colorbar\":{\"outlinewidth\":0,\"ticks\":\"\"}},\"type\":\"scattercarpet\"}],\"scattergeo\":[{\"marker\":{\"colorbar\":{\"outlinewidth\":0,\"ticks\":\"\"}},\"type\":\"scattergeo\"}],\"scattergl\":[{\"marker\":{\"colorbar\":{\"outlinewidth\":0,\"ticks\":\"\"}},\"type\":\"scattergl\"}],\"scattermapbox\":[{\"marker\":{\"colorbar\":{\"outlinewidth\":0,\"ticks\":\"\"}},\"type\":\"scattermapbox\"}],\"scatterpolar\":[{\"marker\":{\"colorbar\":{\"outlinewidth\":0,\"ticks\":\"\"}},\"type\":\"scatterpolar\"}],\"scatterpolargl\":[{\"marker\":{\"colorbar\":{\"outlinewidth\":0,\"ticks\":\"\"}},\"type\":\"scatterpolargl\"}],\"scatterternary\":[{\"marker\":{\"colorbar\":{\"outlinewidth\":0,\"ticks\":\"\"}},\"type\":\"scatterternary\"}],\"surface\":[{\"colorbar\":{\"outlinewidth\":0,\"ticks\":\"\"},\"colorscale\":[[0.0,\"#0d0887\"],[0.1111111111111111,\"#46039f\"],[0.2222222222222222,\"#7201a8\"],[0.3333333333333333,\"#9c179e\"],[0.4444444444444444,\"#bd3786\"],[0.5555555555555556,\"#d8576b\"],[0.6666666666666666,\"#ed7953\"],[0.7777777777777778,\"#fb9f3a\"],[0.8888888888888888,\"#fdca26\"],[1.0,\"#f0f921\"]],\"type\":\"surface\"}],\"table\":[{\"cells\":{\"fill\":{\"color\":\"#EBF0F8\"},\"line\":{\"color\":\"white\"}},\"header\":{\"fill\":{\"color\":\"#C8D4E3\"},\"line\":{\"color\":\"white\"}},\"type\":\"table\"}]},\"layout\":{\"annotationdefaults\":{\"arrowcolor\":\"#2a3f5f\",\"arrowhead\":0,\"arrowwidth\":1},\"autotypenumbers\":\"strict\",\"coloraxis\":{\"colorbar\":{\"outlinewidth\":0,\"ticks\":\"\"}},\"colorscale\":{\"diverging\":[[0,\"#8e0152\"],[0.1,\"#c51b7d\"],[0.2,\"#de77ae\"],[0.3,\"#f1b6da\"],[0.4,\"#fde0ef\"],[0.5,\"#f7f7f7\"],[0.6,\"#e6f5d0\"],[0.7,\"#b8e186\"],[0.8,\"#7fbc41\"],[0.9,\"#4d9221\"],[1,\"#276419\"]],\"sequential\":[[0.0,\"#0d0887\"],[0.1111111111111111,\"#46039f\"],[0.2222222222222222,\"#7201a8\"],[0.3333333333333333,\"#9c179e\"],[0.4444444444444444,\"#bd3786\"],[0.5555555555555556,\"#d8576b\"],[0.6666666666666666,\"#ed7953\"],[0.7777777777777778,\"#fb9f3a\"],[0.8888888888888888,\"#fdca26\"],[1.0,\"#f0f921\"]],\"sequentialminus\":[[0.0,\"#0d0887\"],[0.1111111111111111,\"#46039f\"],[0.2222222222222222,\"#7201a8\"],[0.3333333333333333,\"#9c179e\"],[0.4444444444444444,\"#bd3786\"],[0.5555555555555556,\"#d8576b\"],[0.6666666666666666,\"#ed7953\"],[0.7777777777777778,\"#fb9f3a\"],[0.8888888888888888,\"#fdca26\"],[1.0,\"#f0f921\"]]},\"colorway\":[\"#636efa\",\"#EF553B\",\"#00cc96\",\"#ab63fa\",\"#FFA15A\",\"#19d3f3\",\"#FF6692\",\"#B6E880\",\"#FF97FF\",\"#FECB52\"],\"font\":{\"color\":\"#2a3f5f\"},\"geo\":{\"bgcolor\":\"white\",\"lakecolor\":\"white\",\"landcolor\":\"#E5ECF6\",\"showlakes\":true,\"showland\":true,\"subunitcolor\":\"white\"},\"hoverlabel\":{\"align\":\"left\"},\"hovermode\":\"closest\",\"mapbox\":{\"style\":\"light\"},\"paper_bgcolor\":\"white\",\"plot_bgcolor\":\"#E5ECF6\",\"polar\":{\"angularaxis\":{\"gridcolor\":\"white\",\"linecolor\":\"white\",\"ticks\":\"\"},\"bgcolor\":\"#E5ECF6\",\"radialaxis\":{\"gridcolor\":\"white\",\"linecolor\":\"white\",\"ticks\":\"\"}},\"scene\":{\"xaxis\":{\"backgroundcolor\":\"#E5ECF6\",\"gridcolor\":\"white\",\"gridwidth\":2,\"linecolor\":\"white\",\"showbackground\":true,\"ticks\":\"\",\"zerolinecolor\":\"white\"},\"yaxis\":{\"backgroundcolor\":\"#E5ECF6\",\"gridcolor\":\"white\",\"gridwidth\":2,\"linecolor\":\"white\",\"showbackground\":true,\"ticks\":\"\",\"zerolinecolor\":\"white\"},\"zaxis\":{\"backgroundcolor\":\"#E5ECF6\",\"gridcolor\":\"white\",\"gridwidth\":2,\"linecolor\":\"white\",\"showbackground\":true,\"ticks\":\"\",\"zerolinecolor\":\"white\"}},\"shapedefaults\":{\"line\":{\"color\":\"#2a3f5f\"}},\"ternary\":{\"aaxis\":{\"gridcolor\":\"white\",\"linecolor\":\"white\",\"ticks\":\"\"},\"baxis\":{\"gridcolor\":\"white\",\"linecolor\":\"white\",\"ticks\":\"\"},\"bgcolor\":\"#E5ECF6\",\"caxis\":{\"gridcolor\":\"white\",\"linecolor\":\"white\",\"ticks\":\"\"}},\"title\":{\"x\":0.05},\"xaxis\":{\"automargin\":true,\"gridcolor\":\"white\",\"linecolor\":\"white\",\"ticks\":\"\",\"title\":{\"standoff\":15},\"zerolinecolor\":\"white\",\"zerolinewidth\":2},\"yaxis\":{\"automargin\":true,\"gridcolor\":\"white\",\"linecolor\":\"white\",\"ticks\":\"\",\"title\":{\"standoff\":15},\"zerolinecolor\":\"white\",\"zerolinewidth\":2}}},\"xaxis\":{\"anchor\":\"y\",\"domain\":[0.0,1.0],\"title\":{\"text\":\"word\"}},\"yaxis\":{\"anchor\":\"x\",\"domain\":[0.0,1.0],\"title\":{\"text\":\"count\"}},\"legend\":{\"tracegroupgap\":0},\"title\":{\"text\":\"Words histogram train\"},\"barmode\":\"relative\"},                        {\"responsive\": true}                    ).then(function(){\n",
              "                            \n",
              "var gd = document.getElementById('aa83ba07-70fb-4a7a-8901-a5ec407aa6c3');\n",
              "var x = new MutationObserver(function (mutations, observer) {{\n",
              "        var display = window.getComputedStyle(gd).display;\n",
              "        if (!display || display === 'none') {{\n",
              "            console.log([gd, 'removed!']);\n",
              "            Plotly.purge(gd);\n",
              "            observer.disconnect();\n",
              "        }}\n",
              "}});\n",
              "\n",
              "// Listen for the removal of the full notebook cells\n",
              "var notebookContainer = gd.closest('#notebook-container');\n",
              "if (notebookContainer) {{\n",
              "    x.observe(notebookContainer, {childList: true});\n",
              "}}\n",
              "\n",
              "// Listen for the clearing of the current output cell\n",
              "var outputEl = gd.closest('.output');\n",
              "if (outputEl) {{\n",
              "    x.observe(outputEl, {childList: true});\n",
              "}}\n",
              "\n",
              "                        })                };                            </script>        </div>\n",
              "</body>\n",
              "</html>"
            ]
          },
          "metadata": {}
        }
      ]
    },
    {
      "cell_type": "markdown",
      "source": [
        "#Topic modeling"
      ],
      "metadata": {
        "id": "mFvbafPNbZhm"
      }
    },
    {
      "cell_type": "markdown",
      "source": [
        "##NMF"
      ],
      "metadata": {
        "id": "6j4OM2RLbchS"
      }
    },
    {
      "cell_type": "code",
      "source": [
        "from sklearn.feature_extraction.text import TfidfVectorizer\n",
        "tfidf_vectorizer = TfidfVectorizer(\n",
        "    preprocessor=''.join\n",
        ")\n",
        "tfidf = tfidf_vectorizer.fit_transform(data_train['text_cleaned'].tolist())\n"
      ],
      "metadata": {
        "id": "lPkn7AJaEtJi"
      },
      "execution_count": 8,
      "outputs": []
    },
    {
      "cell_type": "code",
      "source": [
        "model = NMF(n_components=5, random_state=10)\n",
        "\n",
        "model.fit(tfidf)\n",
        "nmf_features = model.transform(tfidf)\n",
        "components_df = pd.DataFrame(model.components_, columns=tfidf_vectorizer.get_feature_names())\n"
      ],
      "metadata": {
        "id": "lSz2WvPIE3mu"
      },
      "execution_count": 9,
      "outputs": []
    },
    {
      "cell_type": "code",
      "source": [
        "topic_NMF = []\n",
        "words_NMF = []\n",
        "for topic in range(components_df.shape[0]):\n",
        "    tmp = components_df.iloc[topic]\n",
        "    words_NMF.append(components_df.iloc[topic].nlargest(10).index.tolist())\n",
        "    topic_NMF.append(topic)\n",
        "NMF_result = pd.DataFrame()\n",
        "NMF_result['topic'] = topic_NMF\n",
        "NMF_result['words'] = words_NMF"
      ],
      "metadata": {
        "id": "4RIceKQSFEXk"
      },
      "execution_count": 100,
      "outputs": []
    },
    {
      "cell_type": "code",
      "source": [
        "NMF_result"
      ],
      "metadata": {
        "colab": {
          "base_uri": "https://localhost:8080/",
          "height": 206
        },
        "id": "Uv5-o6Nkc77w",
        "outputId": "4262c3d6-cbb2-4b15-d086-3ed93de6b816"
      },
      "execution_count": 106,
      "outputs": [
        {
          "output_type": "execute_result",
          "data": {
            "text/plain": [
              "   topic                                              words\n",
              "0      0  [upon, time, man, day, thing, yet, eye, first,...\n",
              "1      1  [one, another, two, thing, old, every, seen, s...\n",
              "2      2  [said, know, dupin, let, nothing, little, sir,...\n",
              "3      3  [could, nothing, see, yet, word, make, perceiv...\n",
              "4      4  [would, return, make, well, might, knew, thoug..."
            ],
            "text/html": [
              "\n",
              "  <div id=\"df-87062b1a-d17c-4ecd-b5fd-96f29bb14f92\">\n",
              "    <div class=\"colab-df-container\">\n",
              "      <div>\n",
              "<style scoped>\n",
              "    .dataframe tbody tr th:only-of-type {\n",
              "        vertical-align: middle;\n",
              "    }\n",
              "\n",
              "    .dataframe tbody tr th {\n",
              "        vertical-align: top;\n",
              "    }\n",
              "\n",
              "    .dataframe thead th {\n",
              "        text-align: right;\n",
              "    }\n",
              "</style>\n",
              "<table border=\"1\" class=\"dataframe\">\n",
              "  <thead>\n",
              "    <tr style=\"text-align: right;\">\n",
              "      <th></th>\n",
              "      <th>topic</th>\n",
              "      <th>words</th>\n",
              "    </tr>\n",
              "  </thead>\n",
              "  <tbody>\n",
              "    <tr>\n",
              "      <th>0</th>\n",
              "      <td>0</td>\n",
              "      <td>[upon, time, man, day, thing, yet, eye, first,...</td>\n",
              "    </tr>\n",
              "    <tr>\n",
              "      <th>1</th>\n",
              "      <td>1</td>\n",
              "      <td>[one, another, two, thing, old, every, seen, s...</td>\n",
              "    </tr>\n",
              "    <tr>\n",
              "      <th>2</th>\n",
              "      <td>2</td>\n",
              "      <td>[said, know, dupin, let, nothing, little, sir,...</td>\n",
              "    </tr>\n",
              "    <tr>\n",
              "      <th>3</th>\n",
              "      <td>3</td>\n",
              "      <td>[could, nothing, see, yet, word, make, perceiv...</td>\n",
              "    </tr>\n",
              "    <tr>\n",
              "      <th>4</th>\n",
              "      <td>4</td>\n",
              "      <td>[would, return, make, well, might, knew, thoug...</td>\n",
              "    </tr>\n",
              "  </tbody>\n",
              "</table>\n",
              "</div>\n",
              "      <button class=\"colab-df-convert\" onclick=\"convertToInteractive('df-87062b1a-d17c-4ecd-b5fd-96f29bb14f92')\"\n",
              "              title=\"Convert this dataframe to an interactive table.\"\n",
              "              style=\"display:none;\">\n",
              "        \n",
              "  <svg xmlns=\"http://www.w3.org/2000/svg\" height=\"24px\"viewBox=\"0 0 24 24\"\n",
              "       width=\"24px\">\n",
              "    <path d=\"M0 0h24v24H0V0z\" fill=\"none\"/>\n",
              "    <path d=\"M18.56 5.44l.94 2.06.94-2.06 2.06-.94-2.06-.94-.94-2.06-.94 2.06-2.06.94zm-11 1L8.5 8.5l.94-2.06 2.06-.94-2.06-.94L8.5 2.5l-.94 2.06-2.06.94zm10 10l.94 2.06.94-2.06 2.06-.94-2.06-.94-.94-2.06-.94 2.06-2.06.94z\"/><path d=\"M17.41 7.96l-1.37-1.37c-.4-.4-.92-.59-1.43-.59-.52 0-1.04.2-1.43.59L10.3 9.45l-7.72 7.72c-.78.78-.78 2.05 0 2.83L4 21.41c.39.39.9.59 1.41.59.51 0 1.02-.2 1.41-.59l7.78-7.78 2.81-2.81c.8-.78.8-2.07 0-2.86zM5.41 20L4 18.59l7.72-7.72 1.47 1.35L5.41 20z\"/>\n",
              "  </svg>\n",
              "      </button>\n",
              "      \n",
              "  <style>\n",
              "    .colab-df-container {\n",
              "      display:flex;\n",
              "      flex-wrap:wrap;\n",
              "      gap: 12px;\n",
              "    }\n",
              "\n",
              "    .colab-df-convert {\n",
              "      background-color: #E8F0FE;\n",
              "      border: none;\n",
              "      border-radius: 50%;\n",
              "      cursor: pointer;\n",
              "      display: none;\n",
              "      fill: #1967D2;\n",
              "      height: 32px;\n",
              "      padding: 0 0 0 0;\n",
              "      width: 32px;\n",
              "    }\n",
              "\n",
              "    .colab-df-convert:hover {\n",
              "      background-color: #E2EBFA;\n",
              "      box-shadow: 0px 1px 2px rgba(60, 64, 67, 0.3), 0px 1px 3px 1px rgba(60, 64, 67, 0.15);\n",
              "      fill: #174EA6;\n",
              "    }\n",
              "\n",
              "    [theme=dark] .colab-df-convert {\n",
              "      background-color: #3B4455;\n",
              "      fill: #D2E3FC;\n",
              "    }\n",
              "\n",
              "    [theme=dark] .colab-df-convert:hover {\n",
              "      background-color: #434B5C;\n",
              "      box-shadow: 0px 1px 3px 1px rgba(0, 0, 0, 0.15);\n",
              "      filter: drop-shadow(0px 1px 2px rgba(0, 0, 0, 0.3));\n",
              "      fill: #FFFFFF;\n",
              "    }\n",
              "  </style>\n",
              "\n",
              "      <script>\n",
              "        const buttonEl =\n",
              "          document.querySelector('#df-87062b1a-d17c-4ecd-b5fd-96f29bb14f92 button.colab-df-convert');\n",
              "        buttonEl.style.display =\n",
              "          google.colab.kernel.accessAllowed ? 'block' : 'none';\n",
              "\n",
              "        async function convertToInteractive(key) {\n",
              "          const element = document.querySelector('#df-87062b1a-d17c-4ecd-b5fd-96f29bb14f92');\n",
              "          const dataTable =\n",
              "            await google.colab.kernel.invokeFunction('convertToInteractive',\n",
              "                                                     [key], {});\n",
              "          if (!dataTable) return;\n",
              "\n",
              "          const docLinkHtml = 'Like what you see? Visit the ' +\n",
              "            '<a target=\"_blank\" href=https://colab.research.google.com/notebooks/data_table.ipynb>data table notebook</a>'\n",
              "            + ' to learn more about interactive tables.';\n",
              "          element.innerHTML = '';\n",
              "          dataTable['output_type'] = 'display_data';\n",
              "          await google.colab.output.renderOutput(dataTable, element);\n",
              "          const docLink = document.createElement('div');\n",
              "          docLink.innerHTML = docLinkHtml;\n",
              "          element.appendChild(docLink);\n",
              "        }\n",
              "      </script>\n",
              "    </div>\n",
              "  </div>\n",
              "  "
            ]
          },
          "metadata": {},
          "execution_count": 106
        }
      ]
    },
    {
      "cell_type": "markdown",
      "source": [
        "##LDA"
      ],
      "metadata": {
        "id": "m2VaAqnhbm-w"
      }
    },
    {
      "cell_type": "code",
      "source": [
        "import gensim\n",
        "from gensim import corpora"
      ],
      "metadata": {
        "id": "rYhwYH0UFN9l"
      },
      "execution_count": 107,
      "outputs": []
    },
    {
      "cell_type": "code",
      "source": [
        "dictionary = gensim.corpora.Dictionary(data_train['tokens_ns'])\n",
        "\n",
        "corpus = [dictionary.doc2bow(text) for text in data_train['tokens_ns']]"
      ],
      "metadata": {
        "id": "U3bWU3e3FQGv"
      },
      "execution_count": 108,
      "outputs": []
    },
    {
      "cell_type": "code",
      "source": [
        "lda_model = gensim.models.ldamodel.LdaModel(corpus=corpus,\n",
        "                                           id2word=dictionary,\n",
        "                                           num_topics=5, \n",
        "                                           random_state=100,\n",
        "                                           update_every=1,\n",
        "                                           chunksize=100,\n",
        "                                           passes=10,\n",
        "                                           alpha='auto',\n",
        "                                           per_word_topics=True)"
      ],
      "metadata": {
        "id": "DzB7Re7VFYDZ"
      },
      "execution_count": 109,
      "outputs": []
    },
    {
      "cell_type": "code",
      "source": [
        "# Save 10 words for topics\n",
        "lda_model.show_topics(formatted = False,num_words=10)\n",
        "doc_lda = lda_model[corpus]"
      ],
      "metadata": {
        "id": "hECgqDzmF4qv"
      },
      "execution_count": 110,
      "outputs": []
    },
    {
      "cell_type": "code",
      "source": [
        "words = []\n",
        "for i in range(len(lda_model.show_topics(formatted = False,num_words=10))):\n",
        "    temp = []\n",
        "    for j in range(len(lda_model.show_topics(formatted = False,num_words=10)[i][1])): \n",
        "        temp.append(lda_model.show_topics(formatted = False,num_words=10)[i][1][j][0])\n",
        "    words.append(temp)"
      ],
      "metadata": {
        "id": "NGk1EsEAGN1G"
      },
      "execution_count": 111,
      "outputs": []
    },
    {
      "cell_type": "code",
      "source": [
        "LDA_result = pd.DataFrame()\n",
        "LDA_result['topic'] = range(5)\n",
        "LDA_result['words'] = words"
      ],
      "metadata": {
        "id": "qVcTcjfaGPDS"
      },
      "execution_count": 112,
      "outputs": []
    },
    {
      "cell_type": "code",
      "source": [
        "LDA_result"
      ],
      "metadata": {
        "colab": {
          "base_uri": "https://localhost:8080/",
          "height": 206
        },
        "id": "2LyCSOI6GS3I",
        "outputId": "41ded9bf-5c52-4a12-9c36-902e9bd79d36"
      },
      "execution_count": 113,
      "outputs": [
        {
          "output_type": "execute_result",
          "data": {
            "text/plain": [
              "   topic                                              words\n",
              "0      0  [would, man, even, life, never, old, must, gre...\n",
              "1      1  [one, upon, could, time, day, thing, found, ni...\n",
              "2      2  [like, eye, saw, seemed, still, water, though,...\n",
              "3      3  [made, first, hand, voice, word, come, idea, h...\n",
              "4      4  [yet, said, may, u, little, say, love, much, w..."
            ],
            "text/html": [
              "\n",
              "  <div id=\"df-5c126607-3f15-486e-abde-d79ce0c2fd99\">\n",
              "    <div class=\"colab-df-container\">\n",
              "      <div>\n",
              "<style scoped>\n",
              "    .dataframe tbody tr th:only-of-type {\n",
              "        vertical-align: middle;\n",
              "    }\n",
              "\n",
              "    .dataframe tbody tr th {\n",
              "        vertical-align: top;\n",
              "    }\n",
              "\n",
              "    .dataframe thead th {\n",
              "        text-align: right;\n",
              "    }\n",
              "</style>\n",
              "<table border=\"1\" class=\"dataframe\">\n",
              "  <thead>\n",
              "    <tr style=\"text-align: right;\">\n",
              "      <th></th>\n",
              "      <th>topic</th>\n",
              "      <th>words</th>\n",
              "    </tr>\n",
              "  </thead>\n",
              "  <tbody>\n",
              "    <tr>\n",
              "      <th>0</th>\n",
              "      <td>0</td>\n",
              "      <td>[would, man, even, life, never, old, must, gre...</td>\n",
              "    </tr>\n",
              "    <tr>\n",
              "      <th>1</th>\n",
              "      <td>1</td>\n",
              "      <td>[one, upon, could, time, day, thing, found, ni...</td>\n",
              "    </tr>\n",
              "    <tr>\n",
              "      <th>2</th>\n",
              "      <td>2</td>\n",
              "      <td>[like, eye, saw, seemed, still, water, though,...</td>\n",
              "    </tr>\n",
              "    <tr>\n",
              "      <th>3</th>\n",
              "      <td>3</td>\n",
              "      <td>[made, first, hand, voice, word, come, idea, h...</td>\n",
              "    </tr>\n",
              "    <tr>\n",
              "      <th>4</th>\n",
              "      <td>4</td>\n",
              "      <td>[yet, said, may, u, little, say, love, much, w...</td>\n",
              "    </tr>\n",
              "  </tbody>\n",
              "</table>\n",
              "</div>\n",
              "      <button class=\"colab-df-convert\" onclick=\"convertToInteractive('df-5c126607-3f15-486e-abde-d79ce0c2fd99')\"\n",
              "              title=\"Convert this dataframe to an interactive table.\"\n",
              "              style=\"display:none;\">\n",
              "        \n",
              "  <svg xmlns=\"http://www.w3.org/2000/svg\" height=\"24px\"viewBox=\"0 0 24 24\"\n",
              "       width=\"24px\">\n",
              "    <path d=\"M0 0h24v24H0V0z\" fill=\"none\"/>\n",
              "    <path d=\"M18.56 5.44l.94 2.06.94-2.06 2.06-.94-2.06-.94-.94-2.06-.94 2.06-2.06.94zm-11 1L8.5 8.5l.94-2.06 2.06-.94-2.06-.94L8.5 2.5l-.94 2.06-2.06.94zm10 10l.94 2.06.94-2.06 2.06-.94-2.06-.94-.94-2.06-.94 2.06-2.06.94z\"/><path d=\"M17.41 7.96l-1.37-1.37c-.4-.4-.92-.59-1.43-.59-.52 0-1.04.2-1.43.59L10.3 9.45l-7.72 7.72c-.78.78-.78 2.05 0 2.83L4 21.41c.39.39.9.59 1.41.59.51 0 1.02-.2 1.41-.59l7.78-7.78 2.81-2.81c.8-.78.8-2.07 0-2.86zM5.41 20L4 18.59l7.72-7.72 1.47 1.35L5.41 20z\"/>\n",
              "  </svg>\n",
              "      </button>\n",
              "      \n",
              "  <style>\n",
              "    .colab-df-container {\n",
              "      display:flex;\n",
              "      flex-wrap:wrap;\n",
              "      gap: 12px;\n",
              "    }\n",
              "\n",
              "    .colab-df-convert {\n",
              "      background-color: #E8F0FE;\n",
              "      border: none;\n",
              "      border-radius: 50%;\n",
              "      cursor: pointer;\n",
              "      display: none;\n",
              "      fill: #1967D2;\n",
              "      height: 32px;\n",
              "      padding: 0 0 0 0;\n",
              "      width: 32px;\n",
              "    }\n",
              "\n",
              "    .colab-df-convert:hover {\n",
              "      background-color: #E2EBFA;\n",
              "      box-shadow: 0px 1px 2px rgba(60, 64, 67, 0.3), 0px 1px 3px 1px rgba(60, 64, 67, 0.15);\n",
              "      fill: #174EA6;\n",
              "    }\n",
              "\n",
              "    [theme=dark] .colab-df-convert {\n",
              "      background-color: #3B4455;\n",
              "      fill: #D2E3FC;\n",
              "    }\n",
              "\n",
              "    [theme=dark] .colab-df-convert:hover {\n",
              "      background-color: #434B5C;\n",
              "      box-shadow: 0px 1px 3px 1px rgba(0, 0, 0, 0.15);\n",
              "      filter: drop-shadow(0px 1px 2px rgba(0, 0, 0, 0.3));\n",
              "      fill: #FFFFFF;\n",
              "    }\n",
              "  </style>\n",
              "\n",
              "      <script>\n",
              "        const buttonEl =\n",
              "          document.querySelector('#df-5c126607-3f15-486e-abde-d79ce0c2fd99 button.colab-df-convert');\n",
              "        buttonEl.style.display =\n",
              "          google.colab.kernel.accessAllowed ? 'block' : 'none';\n",
              "\n",
              "        async function convertToInteractive(key) {\n",
              "          const element = document.querySelector('#df-5c126607-3f15-486e-abde-d79ce0c2fd99');\n",
              "          const dataTable =\n",
              "            await google.colab.kernel.invokeFunction('convertToInteractive',\n",
              "                                                     [key], {});\n",
              "          if (!dataTable) return;\n",
              "\n",
              "          const docLinkHtml = 'Like what you see? Visit the ' +\n",
              "            '<a target=\"_blank\" href=https://colab.research.google.com/notebooks/data_table.ipynb>data table notebook</a>'\n",
              "            + ' to learn more about interactive tables.';\n",
              "          element.innerHTML = '';\n",
              "          dataTable['output_type'] = 'display_data';\n",
              "          await google.colab.output.renderOutput(dataTable, element);\n",
              "          const docLink = document.createElement('div');\n",
              "          docLink.innerHTML = docLinkHtml;\n",
              "          element.appendChild(docLink);\n",
              "        }\n",
              "      </script>\n",
              "    </div>\n",
              "  </div>\n",
              "  "
            ]
          },
          "metadata": {},
          "execution_count": 113
        }
      ]
    },
    {
      "cell_type": "markdown",
      "source": [
        "##ARTM"
      ],
      "metadata": {
        "id": "IKZXf41vbryC"
      }
    },
    {
      "cell_type": "code",
      "source": [
        "flat_list = [item for sublist in data_train['tokens_ns'] for item in sublist]\n"
      ],
      "metadata": {
        "id": "iaPSeCDlLo_T"
      },
      "execution_count": 60,
      "outputs": []
    },
    {
      "cell_type": "code",
      "source": [
        "full_text = ' '.join(flat_list)"
      ],
      "metadata": {
        "id": "i_7kXZyMLsyV"
      },
      "execution_count": 21,
      "outputs": []
    },
    {
      "cell_type": "code",
      "source": [
        "!pip install bigartm"
      ],
      "metadata": {
        "colab": {
          "base_uri": "https://localhost:8080/"
        },
        "id": "gtLPkbhwqBts",
        "outputId": "77337e6e-120e-40e2-bef0-eab22765a275"
      },
      "execution_count": 22,
      "outputs": [
        {
          "output_type": "stream",
          "name": "stdout",
          "text": [
            "Collecting bigartm\n",
            "  Downloading bigartm-0.9.2-cp37-cp37m-manylinux1_x86_64.whl (1.9 MB)\n",
            "\u001b[?25l\r\u001b[K     |▏                               | 10 kB 27.2 MB/s eta 0:00:01\r\u001b[K     |▍                               | 20 kB 32.4 MB/s eta 0:00:01\r\u001b[K     |▌                               | 30 kB 37.5 MB/s eta 0:00:01\r\u001b[K     |▊                               | 40 kB 33.0 MB/s eta 0:00:01\r\u001b[K     |▉                               | 51 kB 23.7 MB/s eta 0:00:01\r\u001b[K     |█                               | 61 kB 26.8 MB/s eta 0:00:01\r\u001b[K     |█▏                              | 71 kB 24.8 MB/s eta 0:00:01\r\u001b[K     |█▍                              | 81 kB 25.9 MB/s eta 0:00:01\r\u001b[K     |█▌                              | 92 kB 28.1 MB/s eta 0:00:01\r\u001b[K     |█▊                              | 102 kB 28.0 MB/s eta 0:00:01\r\u001b[K     |█▉                              | 112 kB 28.0 MB/s eta 0:00:01\r\u001b[K     |██                              | 122 kB 28.0 MB/s eta 0:00:01\r\u001b[K     |██▏                             | 133 kB 28.0 MB/s eta 0:00:01\r\u001b[K     |██▍                             | 143 kB 28.0 MB/s eta 0:00:01\r\u001b[K     |██▌                             | 153 kB 28.0 MB/s eta 0:00:01\r\u001b[K     |██▊                             | 163 kB 28.0 MB/s eta 0:00:01\r\u001b[K     |██▉                             | 174 kB 28.0 MB/s eta 0:00:01\r\u001b[K     |███                             | 184 kB 28.0 MB/s eta 0:00:01\r\u001b[K     |███▏                            | 194 kB 28.0 MB/s eta 0:00:01\r\u001b[K     |███▍                            | 204 kB 28.0 MB/s eta 0:00:01\r\u001b[K     |███▋                            | 215 kB 28.0 MB/s eta 0:00:01\r\u001b[K     |███▊                            | 225 kB 28.0 MB/s eta 0:00:01\r\u001b[K     |████                            | 235 kB 28.0 MB/s eta 0:00:01\r\u001b[K     |████                            | 245 kB 28.0 MB/s eta 0:00:01\r\u001b[K     |████▎                           | 256 kB 28.0 MB/s eta 0:00:01\r\u001b[K     |████▍                           | 266 kB 28.0 MB/s eta 0:00:01\r\u001b[K     |████▋                           | 276 kB 28.0 MB/s eta 0:00:01\r\u001b[K     |████▊                           | 286 kB 28.0 MB/s eta 0:00:01\r\u001b[K     |█████                           | 296 kB 28.0 MB/s eta 0:00:01\r\u001b[K     |█████                           | 307 kB 28.0 MB/s eta 0:00:01\r\u001b[K     |█████▎                          | 317 kB 28.0 MB/s eta 0:00:01\r\u001b[K     |█████▍                          | 327 kB 28.0 MB/s eta 0:00:01\r\u001b[K     |█████▋                          | 337 kB 28.0 MB/s eta 0:00:01\r\u001b[K     |█████▊                          | 348 kB 28.0 MB/s eta 0:00:01\r\u001b[K     |██████                          | 358 kB 28.0 MB/s eta 0:00:01\r\u001b[K     |██████                          | 368 kB 28.0 MB/s eta 0:00:01\r\u001b[K     |██████▎                         | 378 kB 28.0 MB/s eta 0:00:01\r\u001b[K     |██████▍                         | 389 kB 28.0 MB/s eta 0:00:01\r\u001b[K     |██████▋                         | 399 kB 28.0 MB/s eta 0:00:01\r\u001b[K     |██████▊                         | 409 kB 28.0 MB/s eta 0:00:01\r\u001b[K     |███████                         | 419 kB 28.0 MB/s eta 0:00:01\r\u001b[K     |███████▏                        | 430 kB 28.0 MB/s eta 0:00:01\r\u001b[K     |███████▎                        | 440 kB 28.0 MB/s eta 0:00:01\r\u001b[K     |███████▌                        | 450 kB 28.0 MB/s eta 0:00:01\r\u001b[K     |███████▋                        | 460 kB 28.0 MB/s eta 0:00:01\r\u001b[K     |███████▉                        | 471 kB 28.0 MB/s eta 0:00:01\r\u001b[K     |████████                        | 481 kB 28.0 MB/s eta 0:00:01\r\u001b[K     |████████▏                       | 491 kB 28.0 MB/s eta 0:00:01\r\u001b[K     |████████▎                       | 501 kB 28.0 MB/s eta 0:00:01\r\u001b[K     |████████▌                       | 512 kB 28.0 MB/s eta 0:00:01\r\u001b[K     |████████▋                       | 522 kB 28.0 MB/s eta 0:00:01\r\u001b[K     |████████▉                       | 532 kB 28.0 MB/s eta 0:00:01\r\u001b[K     |█████████                       | 542 kB 28.0 MB/s eta 0:00:01\r\u001b[K     |█████████▏                      | 552 kB 28.0 MB/s eta 0:00:01\r\u001b[K     |█████████▎                      | 563 kB 28.0 MB/s eta 0:00:01\r\u001b[K     |█████████▌                      | 573 kB 28.0 MB/s eta 0:00:01\r\u001b[K     |█████████▋                      | 583 kB 28.0 MB/s eta 0:00:01\r\u001b[K     |█████████▉                      | 593 kB 28.0 MB/s eta 0:00:01\r\u001b[K     |██████████                      | 604 kB 28.0 MB/s eta 0:00:01\r\u001b[K     |██████████▏                     | 614 kB 28.0 MB/s eta 0:00:01\r\u001b[K     |██████████▎                     | 624 kB 28.0 MB/s eta 0:00:01\r\u001b[K     |██████████▌                     | 634 kB 28.0 MB/s eta 0:00:01\r\u001b[K     |██████████▊                     | 645 kB 28.0 MB/s eta 0:00:01\r\u001b[K     |██████████▉                     | 655 kB 28.0 MB/s eta 0:00:01\r\u001b[K     |███████████                     | 665 kB 28.0 MB/s eta 0:00:01\r\u001b[K     |███████████▏                    | 675 kB 28.0 MB/s eta 0:00:01\r\u001b[K     |███████████▍                    | 686 kB 28.0 MB/s eta 0:00:01\r\u001b[K     |███████████▌                    | 696 kB 28.0 MB/s eta 0:00:01\r\u001b[K     |███████████▊                    | 706 kB 28.0 MB/s eta 0:00:01\r\u001b[K     |███████████▉                    | 716 kB 28.0 MB/s eta 0:00:01\r\u001b[K     |████████████                    | 727 kB 28.0 MB/s eta 0:00:01\r\u001b[K     |████████████▏                   | 737 kB 28.0 MB/s eta 0:00:01\r\u001b[K     |████████████▍                   | 747 kB 28.0 MB/s eta 0:00:01\r\u001b[K     |████████████▌                   | 757 kB 28.0 MB/s eta 0:00:01\r\u001b[K     |████████████▊                   | 768 kB 28.0 MB/s eta 0:00:01\r\u001b[K     |████████████▉                   | 778 kB 28.0 MB/s eta 0:00:01\r\u001b[K     |█████████████                   | 788 kB 28.0 MB/s eta 0:00:01\r\u001b[K     |█████████████▏                  | 798 kB 28.0 MB/s eta 0:00:01\r\u001b[K     |█████████████▍                  | 808 kB 28.0 MB/s eta 0:00:01\r\u001b[K     |█████████████▌                  | 819 kB 28.0 MB/s eta 0:00:01\r\u001b[K     |█████████████▊                  | 829 kB 28.0 MB/s eta 0:00:01\r\u001b[K     |██████████████                  | 839 kB 28.0 MB/s eta 0:00:01\r\u001b[K     |██████████████                  | 849 kB 28.0 MB/s eta 0:00:01\r\u001b[K     |██████████████▎                 | 860 kB 28.0 MB/s eta 0:00:01\r\u001b[K     |██████████████▍                 | 870 kB 28.0 MB/s eta 0:00:01\r\u001b[K     |██████████████▋                 | 880 kB 28.0 MB/s eta 0:00:01\r\u001b[K     |██████████████▊                 | 890 kB 28.0 MB/s eta 0:00:01\r\u001b[K     |███████████████                 | 901 kB 28.0 MB/s eta 0:00:01\r\u001b[K     |███████████████                 | 911 kB 28.0 MB/s eta 0:00:01\r\u001b[K     |███████████████▎                | 921 kB 28.0 MB/s eta 0:00:01\r\u001b[K     |███████████████▍                | 931 kB 28.0 MB/s eta 0:00:01\r\u001b[K     |███████████████▋                | 942 kB 28.0 MB/s eta 0:00:01\r\u001b[K     |███████████████▊                | 952 kB 28.0 MB/s eta 0:00:01\r\u001b[K     |████████████████                | 962 kB 28.0 MB/s eta 0:00:01\r\u001b[K     |████████████████                | 972 kB 28.0 MB/s eta 0:00:01\r\u001b[K     |████████████████▎               | 983 kB 28.0 MB/s eta 0:00:01\r\u001b[K     |████████████████▍               | 993 kB 28.0 MB/s eta 0:00:01\r\u001b[K     |████████████████▋               | 1.0 MB 28.0 MB/s eta 0:00:01\r\u001b[K     |████████████████▊               | 1.0 MB 28.0 MB/s eta 0:00:01\r\u001b[K     |█████████████████               | 1.0 MB 28.0 MB/s eta 0:00:01\r\u001b[K     |█████████████████               | 1.0 MB 28.0 MB/s eta 0:00:01\r\u001b[K     |█████████████████▎              | 1.0 MB 28.0 MB/s eta 0:00:01\r\u001b[K     |█████████████████▌              | 1.1 MB 28.0 MB/s eta 0:00:01\r\u001b[K     |█████████████████▋              | 1.1 MB 28.0 MB/s eta 0:00:01\r\u001b[K     |█████████████████▉              | 1.1 MB 28.0 MB/s eta 0:00:01\r\u001b[K     |██████████████████              | 1.1 MB 28.0 MB/s eta 0:00:01\r\u001b[K     |██████████████████▏             | 1.1 MB 28.0 MB/s eta 0:00:01\r\u001b[K     |██████████████████▎             | 1.1 MB 28.0 MB/s eta 0:00:01\r\u001b[K     |██████████████████▌             | 1.1 MB 28.0 MB/s eta 0:00:01\r\u001b[K     |██████████████████▋             | 1.1 MB 28.0 MB/s eta 0:00:01\r\u001b[K     |██████████████████▉             | 1.1 MB 28.0 MB/s eta 0:00:01\r\u001b[K     |███████████████████             | 1.1 MB 28.0 MB/s eta 0:00:01\r\u001b[K     |███████████████████▏            | 1.2 MB 28.0 MB/s eta 0:00:01\r\u001b[K     |███████████████████▎            | 1.2 MB 28.0 MB/s eta 0:00:01\r\u001b[K     |███████████████████▌            | 1.2 MB 28.0 MB/s eta 0:00:01\r\u001b[K     |███████████████████▋            | 1.2 MB 28.0 MB/s eta 0:00:01\r\u001b[K     |███████████████████▉            | 1.2 MB 28.0 MB/s eta 0:00:01\r\u001b[K     |████████████████████            | 1.2 MB 28.0 MB/s eta 0:00:01\r\u001b[K     |████████████████████▏           | 1.2 MB 28.0 MB/s eta 0:00:01\r\u001b[K     |████████████████████▎           | 1.2 MB 28.0 MB/s eta 0:00:01\r\u001b[K     |████████████████████▌           | 1.2 MB 28.0 MB/s eta 0:00:01\r\u001b[K     |████████████████████▋           | 1.2 MB 28.0 MB/s eta 0:00:01\r\u001b[K     |████████████████████▉           | 1.3 MB 28.0 MB/s eta 0:00:01\r\u001b[K     |█████████████████████           | 1.3 MB 28.0 MB/s eta 0:00:01\r\u001b[K     |█████████████████████▏          | 1.3 MB 28.0 MB/s eta 0:00:01\r\u001b[K     |█████████████████████▍          | 1.3 MB 28.0 MB/s eta 0:00:01\r\u001b[K     |█████████████████████▌          | 1.3 MB 28.0 MB/s eta 0:00:01\r\u001b[K     |█████████████████████▊          | 1.3 MB 28.0 MB/s eta 0:00:01\r\u001b[K     |█████████████████████▉          | 1.3 MB 28.0 MB/s eta 0:00:01\r\u001b[K     |██████████████████████          | 1.3 MB 28.0 MB/s eta 0:00:01\r\u001b[K     |██████████████████████▏         | 1.3 MB 28.0 MB/s eta 0:00:01\r\u001b[K     |██████████████████████▍         | 1.4 MB 28.0 MB/s eta 0:00:01\r\u001b[K     |██████████████████████▌         | 1.4 MB 28.0 MB/s eta 0:00:01\r\u001b[K     |██████████████████████▊         | 1.4 MB 28.0 MB/s eta 0:00:01\r\u001b[K     |██████████████████████▉         | 1.4 MB 28.0 MB/s eta 0:00:01\r\u001b[K     |███████████████████████         | 1.4 MB 28.0 MB/s eta 0:00:01\r\u001b[K     |███████████████████████▏        | 1.4 MB 28.0 MB/s eta 0:00:01\r\u001b[K     |███████████████████████▍        | 1.4 MB 28.0 MB/s eta 0:00:01\r\u001b[K     |███████████████████████▌        | 1.4 MB 28.0 MB/s eta 0:00:01\r\u001b[K     |███████████████████████▊        | 1.4 MB 28.0 MB/s eta 0:00:01\r\u001b[K     |███████████████████████▉        | 1.4 MB 28.0 MB/s eta 0:00:01\r\u001b[K     |████████████████████████        | 1.5 MB 28.0 MB/s eta 0:00:01\r\u001b[K     |████████████████████████▎       | 1.5 MB 28.0 MB/s eta 0:00:01\r\u001b[K     |████████████████████████▍       | 1.5 MB 28.0 MB/s eta 0:00:01\r\u001b[K     |████████████████████████▋       | 1.5 MB 28.0 MB/s eta 0:00:01\r\u001b[K     |████████████████████████▊       | 1.5 MB 28.0 MB/s eta 0:00:01\r\u001b[K     |█████████████████████████       | 1.5 MB 28.0 MB/s eta 0:00:01\r\u001b[K     |█████████████████████████       | 1.5 MB 28.0 MB/s eta 0:00:01\r\u001b[K     |█████████████████████████▎      | 1.5 MB 28.0 MB/s eta 0:00:01\r\u001b[K     |█████████████████████████▍      | 1.5 MB 28.0 MB/s eta 0:00:01\r\u001b[K     |█████████████████████████▋      | 1.5 MB 28.0 MB/s eta 0:00:01\r\u001b[K     |█████████████████████████▊      | 1.6 MB 28.0 MB/s eta 0:00:01\r\u001b[K     |██████████████████████████      | 1.6 MB 28.0 MB/s eta 0:00:01\r\u001b[K     |██████████████████████████      | 1.6 MB 28.0 MB/s eta 0:00:01\r\u001b[K     |██████████████████████████▎     | 1.6 MB 28.0 MB/s eta 0:00:01\r\u001b[K     |██████████████████████████▍     | 1.6 MB 28.0 MB/s eta 0:00:01\r\u001b[K     |██████████████████████████▋     | 1.6 MB 28.0 MB/s eta 0:00:01\r\u001b[K     |██████████████████████████▊     | 1.6 MB 28.0 MB/s eta 0:00:01\r\u001b[K     |███████████████████████████     | 1.6 MB 28.0 MB/s eta 0:00:01\r\u001b[K     |███████████████████████████     | 1.6 MB 28.0 MB/s eta 0:00:01\r\u001b[K     |███████████████████████████▎    | 1.6 MB 28.0 MB/s eta 0:00:01\r\u001b[K     |███████████████████████████▍    | 1.7 MB 28.0 MB/s eta 0:00:01\r\u001b[K     |███████████████████████████▋    | 1.7 MB 28.0 MB/s eta 0:00:01\r\u001b[K     |███████████████████████████▉    | 1.7 MB 28.0 MB/s eta 0:00:01\r\u001b[K     |████████████████████████████    | 1.7 MB 28.0 MB/s eta 0:00:01\r\u001b[K     |████████████████████████████▏   | 1.7 MB 28.0 MB/s eta 0:00:01\r\u001b[K     |████████████████████████████▎   | 1.7 MB 28.0 MB/s eta 0:00:01\r\u001b[K     |████████████████████████████▌   | 1.7 MB 28.0 MB/s eta 0:00:01\r\u001b[K     |████████████████████████████▋   | 1.7 MB 28.0 MB/s eta 0:00:01\r\u001b[K     |████████████████████████████▉   | 1.7 MB 28.0 MB/s eta 0:00:01\r\u001b[K     |█████████████████████████████   | 1.8 MB 28.0 MB/s eta 0:00:01\r\u001b[K     |█████████████████████████████▏  | 1.8 MB 28.0 MB/s eta 0:00:01\r\u001b[K     |█████████████████████████████▎  | 1.8 MB 28.0 MB/s eta 0:00:01\r\u001b[K     |█████████████████████████████▌  | 1.8 MB 28.0 MB/s eta 0:00:01\r\u001b[K     |█████████████████████████████▋  | 1.8 MB 28.0 MB/s eta 0:00:01\r\u001b[K     |█████████████████████████████▉  | 1.8 MB 28.0 MB/s eta 0:00:01\r\u001b[K     |██████████████████████████████  | 1.8 MB 28.0 MB/s eta 0:00:01\r\u001b[K     |██████████████████████████████▏ | 1.8 MB 28.0 MB/s eta 0:00:01\r\u001b[K     |██████████████████████████████▎ | 1.8 MB 28.0 MB/s eta 0:00:01\r\u001b[K     |██████████████████████████████▌ | 1.8 MB 28.0 MB/s eta 0:00:01\r\u001b[K     |██████████████████████████████▋ | 1.9 MB 28.0 MB/s eta 0:00:01\r\u001b[K     |██████████████████████████████▉ | 1.9 MB 28.0 MB/s eta 0:00:01\r\u001b[K     |███████████████████████████████ | 1.9 MB 28.0 MB/s eta 0:00:01\r\u001b[K     |███████████████████████████████▏| 1.9 MB 28.0 MB/s eta 0:00:01\r\u001b[K     |███████████████████████████████▍| 1.9 MB 28.0 MB/s eta 0:00:01\r\u001b[K     |███████████████████████████████▌| 1.9 MB 28.0 MB/s eta 0:00:01\r\u001b[K     |███████████████████████████████▊| 1.9 MB 28.0 MB/s eta 0:00:01\r\u001b[K     |███████████████████████████████▉| 1.9 MB 28.0 MB/s eta 0:00:01\r\u001b[K     |████████████████████████████████| 1.9 MB 28.0 MB/s \n",
            "\u001b[?25hRequirement already satisfied: protobuf>=3.0 in /usr/local/lib/python3.7/dist-packages (from bigartm) (3.17.3)\n",
            "Requirement already satisfied: numpy in /usr/local/lib/python3.7/dist-packages (from bigartm) (1.21.5)\n",
            "Requirement already satisfied: pandas in /usr/local/lib/python3.7/dist-packages (from bigartm) (1.3.5)\n",
            "Requirement already satisfied: tqdm in /usr/local/lib/python3.7/dist-packages (from bigartm) (4.63.0)\n",
            "Requirement already satisfied: six>=1.9 in /usr/local/lib/python3.7/dist-packages (from protobuf>=3.0->bigartm) (1.15.0)\n",
            "Requirement already satisfied: python-dateutil>=2.7.3 in /usr/local/lib/python3.7/dist-packages (from pandas->bigartm) (2.8.2)\n",
            "Requirement already satisfied: pytz>=2017.3 in /usr/local/lib/python3.7/dist-packages (from pandas->bigartm) (2018.9)\n",
            "Installing collected packages: bigartm\n",
            "Successfully installed bigartm-0.9.2\n"
          ]
        }
      ]
    },
    {
      "cell_type": "code",
      "source": [
        "import artm\n",
        "\n",
        "# Prepare data\n",
        "# Case 1: data in CountVectorizer format\n",
        "from sklearn.feature_extraction.text import CountVectorizer\n",
        "from sklearn.datasets import fetch_20newsgroups\n",
        "from numpy import array\n",
        "\n"
      ],
      "metadata": {
        "id": "Hoq2_mN5HTNc"
      },
      "execution_count": 23,
      "outputs": []
    },
    {
      "cell_type": "code",
      "source": [
        "cv = CountVectorizer(max_features=1000, stop_words='english')\n",
        "n_wd = array(cv.fit_transform(data_train['text_cleaned'].tolist()).todense()).T\n",
        "vocabulary = cv.get_feature_names()"
      ],
      "metadata": {
        "id": "zbyw69aLPktS"
      },
      "execution_count": 24,
      "outputs": []
    },
    {
      "cell_type": "code",
      "source": [
        "bv = artm.BatchVectorizer(data_format='bow_n_wd',\n",
        "                          n_wd=n_wd,\n",
        "                          vocabulary=vocabulary)\n",
        "\n",
        "\n",
        "model = artm.LDA(num_topics=5, dictionary=bv.dictionary)\n",
        "model.fit_offline(bv, num_collection_passes=20)"
      ],
      "metadata": {
        "id": "ariE91gtPdYx"
      },
      "execution_count": 25,
      "outputs": []
    },
    {
      "cell_type": "code",
      "source": [
        "ARTM_result = pd.DataFrame()\n",
        "ARTM_result['topic'] = range(5)\n",
        "ARTM_result['words'] = model.get_top_tokens(10)"
      ],
      "metadata": {
        "id": "zYIErEzOPhpE"
      },
      "execution_count": 27,
      "outputs": []
    },
    {
      "cell_type": "code",
      "source": [
        "ARTM_result"
      ],
      "metadata": {
        "colab": {
          "base_uri": "https://localhost:8080/",
          "height": 206
        },
        "id": "lwnXwi0fZ1Sc",
        "outputId": "cda8c0af-d26f-4bc2-b3a0-af4fb34a039d"
      },
      "execution_count": 28,
      "outputs": [
        {
          "output_type": "execute_result",
          "data": {
            "text/plain": [
              "   topic                                              words\n",
              "0      0  [night, mind, heart, friend, heard, felt, love...\n",
              "1      1  [day, eye, little, house, year, word, left, he...\n",
              "2      2  [long, came, time, earth, father, city, foot, ...\n",
              "3      3  [man, life, death, place, far, shall, men, com...\n",
              "4      4  [thing, said, thought, say, old, know, like, l..."
            ],
            "text/html": [
              "\n",
              "  <div id=\"df-13393650-191d-4a7a-81cb-24e3504bdd2a\">\n",
              "    <div class=\"colab-df-container\">\n",
              "      <div>\n",
              "<style scoped>\n",
              "    .dataframe tbody tr th:only-of-type {\n",
              "        vertical-align: middle;\n",
              "    }\n",
              "\n",
              "    .dataframe tbody tr th {\n",
              "        vertical-align: top;\n",
              "    }\n",
              "\n",
              "    .dataframe thead th {\n",
              "        text-align: right;\n",
              "    }\n",
              "</style>\n",
              "<table border=\"1\" class=\"dataframe\">\n",
              "  <thead>\n",
              "    <tr style=\"text-align: right;\">\n",
              "      <th></th>\n",
              "      <th>topic</th>\n",
              "      <th>words</th>\n",
              "    </tr>\n",
              "  </thead>\n",
              "  <tbody>\n",
              "    <tr>\n",
              "      <th>0</th>\n",
              "      <td>0</td>\n",
              "      <td>[night, mind, heart, friend, heard, felt, love...</td>\n",
              "    </tr>\n",
              "    <tr>\n",
              "      <th>1</th>\n",
              "      <td>1</td>\n",
              "      <td>[day, eye, little, house, year, word, left, he...</td>\n",
              "    </tr>\n",
              "    <tr>\n",
              "      <th>2</th>\n",
              "      <td>2</td>\n",
              "      <td>[long, came, time, earth, father, city, foot, ...</td>\n",
              "    </tr>\n",
              "    <tr>\n",
              "      <th>3</th>\n",
              "      <td>3</td>\n",
              "      <td>[man, life, death, place, far, shall, men, com...</td>\n",
              "    </tr>\n",
              "    <tr>\n",
              "      <th>4</th>\n",
              "      <td>4</td>\n",
              "      <td>[thing, said, thought, say, old, know, like, l...</td>\n",
              "    </tr>\n",
              "  </tbody>\n",
              "</table>\n",
              "</div>\n",
              "      <button class=\"colab-df-convert\" onclick=\"convertToInteractive('df-13393650-191d-4a7a-81cb-24e3504bdd2a')\"\n",
              "              title=\"Convert this dataframe to an interactive table.\"\n",
              "              style=\"display:none;\">\n",
              "        \n",
              "  <svg xmlns=\"http://www.w3.org/2000/svg\" height=\"24px\"viewBox=\"0 0 24 24\"\n",
              "       width=\"24px\">\n",
              "    <path d=\"M0 0h24v24H0V0z\" fill=\"none\"/>\n",
              "    <path d=\"M18.56 5.44l.94 2.06.94-2.06 2.06-.94-2.06-.94-.94-2.06-.94 2.06-2.06.94zm-11 1L8.5 8.5l.94-2.06 2.06-.94-2.06-.94L8.5 2.5l-.94 2.06-2.06.94zm10 10l.94 2.06.94-2.06 2.06-.94-2.06-.94-.94-2.06-.94 2.06-2.06.94z\"/><path d=\"M17.41 7.96l-1.37-1.37c-.4-.4-.92-.59-1.43-.59-.52 0-1.04.2-1.43.59L10.3 9.45l-7.72 7.72c-.78.78-.78 2.05 0 2.83L4 21.41c.39.39.9.59 1.41.59.51 0 1.02-.2 1.41-.59l7.78-7.78 2.81-2.81c.8-.78.8-2.07 0-2.86zM5.41 20L4 18.59l7.72-7.72 1.47 1.35L5.41 20z\"/>\n",
              "  </svg>\n",
              "      </button>\n",
              "      \n",
              "  <style>\n",
              "    .colab-df-container {\n",
              "      display:flex;\n",
              "      flex-wrap:wrap;\n",
              "      gap: 12px;\n",
              "    }\n",
              "\n",
              "    .colab-df-convert {\n",
              "      background-color: #E8F0FE;\n",
              "      border: none;\n",
              "      border-radius: 50%;\n",
              "      cursor: pointer;\n",
              "      display: none;\n",
              "      fill: #1967D2;\n",
              "      height: 32px;\n",
              "      padding: 0 0 0 0;\n",
              "      width: 32px;\n",
              "    }\n",
              "\n",
              "    .colab-df-convert:hover {\n",
              "      background-color: #E2EBFA;\n",
              "      box-shadow: 0px 1px 2px rgba(60, 64, 67, 0.3), 0px 1px 3px 1px rgba(60, 64, 67, 0.15);\n",
              "      fill: #174EA6;\n",
              "    }\n",
              "\n",
              "    [theme=dark] .colab-df-convert {\n",
              "      background-color: #3B4455;\n",
              "      fill: #D2E3FC;\n",
              "    }\n",
              "\n",
              "    [theme=dark] .colab-df-convert:hover {\n",
              "      background-color: #434B5C;\n",
              "      box-shadow: 0px 1px 3px 1px rgba(0, 0, 0, 0.15);\n",
              "      filter: drop-shadow(0px 1px 2px rgba(0, 0, 0, 0.3));\n",
              "      fill: #FFFFFF;\n",
              "    }\n",
              "  </style>\n",
              "\n",
              "      <script>\n",
              "        const buttonEl =\n",
              "          document.querySelector('#df-13393650-191d-4a7a-81cb-24e3504bdd2a button.colab-df-convert');\n",
              "        buttonEl.style.display =\n",
              "          google.colab.kernel.accessAllowed ? 'block' : 'none';\n",
              "\n",
              "        async function convertToInteractive(key) {\n",
              "          const element = document.querySelector('#df-13393650-191d-4a7a-81cb-24e3504bdd2a');\n",
              "          const dataTable =\n",
              "            await google.colab.kernel.invokeFunction('convertToInteractive',\n",
              "                                                     [key], {});\n",
              "          if (!dataTable) return;\n",
              "\n",
              "          const docLinkHtml = 'Like what you see? Visit the ' +\n",
              "            '<a target=\"_blank\" href=https://colab.research.google.com/notebooks/data_table.ipynb>data table notebook</a>'\n",
              "            + ' to learn more about interactive tables.';\n",
              "          element.innerHTML = '';\n",
              "          dataTable['output_type'] = 'display_data';\n",
              "          await google.colab.output.renderOutput(dataTable, element);\n",
              "          const docLink = document.createElement('div');\n",
              "          docLink.innerHTML = docLinkHtml;\n",
              "          element.appendChild(docLink);\n",
              "        }\n",
              "      </script>\n",
              "    </div>\n",
              "  </div>\n",
              "  "
            ]
          },
          "metadata": {},
          "execution_count": 28
        }
      ]
    },
    {
      "cell_type": "markdown",
      "source": [
        "# Coherence calculation"
      ],
      "metadata": {
        "id": "5ed4qMlePIEO"
      }
    },
    {
      "cell_type": "code",
      "source": [
        "from gensim.test.utils import common_corpus, common_dictionary\n",
        "from gensim.models.coherencemodel import CoherenceModel"
      ],
      "metadata": {
        "id": "NCHMKQRKaJ2y"
      },
      "execution_count": 72,
      "outputs": []
    },
    {
      "cell_type": "code",
      "source": [
        "dictionary = gensim.corpora.Dictionary(data_optional[\"tokens_ns\"])\n",
        "corpus = [dictionary.doc2bow(text) for text in data_optional[\"tokens_ns\"]]"
      ],
      "metadata": {
        "id": "gGM7ain5Nekn"
      },
      "execution_count": 73,
      "outputs": []
    },
    {
      "cell_type": "code",
      "source": [
        "cm = CoherenceModel(topics=ARTM_result['words'], corpus=corpus, dictionary=dictionary, coherence='u_mass')\n",
        "coherence = cm.get_coherence()\n",
        "print(\"ARTM coherence = \" ,np.exp(coherence))"
      ],
      "metadata": {
        "colab": {
          "base_uri": "https://localhost:8080/"
        },
        "id": "NSS6FUkcMwpP",
        "outputId": "d04e0db2-6186-4303-d45a-3e3ed31afdae"
      },
      "execution_count": 74,
      "outputs": [
        {
          "output_type": "stream",
          "name": "stdout",
          "text": [
            "ARTM coherence =  0.020398418455759886\n"
          ]
        }
      ]
    },
    {
      "cell_type": "code",
      "source": [
        "cm = CoherenceModel(topics=LDA_result['words'], corpus=corpus, dictionary=dictionary, coherence='u_mass')\n",
        "coherence = cm.get_coherence()\n",
        "print(\"LDA coherence = \", np.exp(coherence))"
      ],
      "metadata": {
        "colab": {
          "base_uri": "https://localhost:8080/"
        },
        "id": "BqJLNaiHs831",
        "outputId": "f0c8e5ad-9ee7-42df-fc57-d12cc3c5ea22"
      },
      "execution_count": 75,
      "outputs": [
        {
          "output_type": "stream",
          "name": "stdout",
          "text": [
            "LDA coherence =  0.029707094117831945\n"
          ]
        }
      ]
    },
    {
      "cell_type": "code",
      "source": [
        "cm = CoherenceModel(topics=NMF_result['words'], corpus=corpus, dictionary=dictionary, coherence='u_mass')\n",
        "coherence = cm.get_coherence()\n",
        "print(\"NMF coherence = \",np.exp(coherence))"
      ],
      "metadata": {
        "colab": {
          "base_uri": "https://localhost:8080/"
        },
        "id": "JbN3OpDItJcr",
        "outputId": "aca26643-b644-4fdb-8e02-572ee731f129"
      },
      "execution_count": 76,
      "outputs": [
        {
          "output_type": "stream",
          "name": "stdout",
          "text": [
            "NMF coherence =  0.010767014359492537\n"
          ]
        }
      ]
    },
    {
      "cell_type": "markdown",
      "source": [
        "# NMPI Calculation"
      ],
      "metadata": {
        "id": "BKYg9MwlQrzt"
      }
    },
    {
      "cell_type": "code",
      "source": [
        "def get_pairs(items):\n",
        "  a = [(items[i],items[j]) for i in range(len(items)) for j in range(i+1, len(items))]\n",
        "  return a\n",
        "\n",
        "def NMPI_calculate(topic_df):\n",
        "  NMPI_list = []\n",
        "  for topic in range(len(topic_df)):\n",
        "    items = topic_df['words'][topic]\n",
        "    NMPI = 0\n",
        "    for pair in get_pairs(items):\n",
        "      pi = 0\n",
        "      pj = 0\n",
        "      pij = 0\n",
        "      for document in data_train['tokens_ns']:\n",
        "        tempi = False\n",
        "        tempj = False\n",
        "        if pair[0] in document:\n",
        "          pi+=1\n",
        "          tempi = True\n",
        "        if pair[1] in document:\n",
        "          pj+=1\n",
        "          tempj = True\n",
        "        if tempi and tempj:\n",
        "          pij += 1\n",
        "      pi = pi/len(data_train['tokens_ns'])\n",
        "      pj = pj/len(data_train['tokens_ns'])\n",
        "      if pij != 0:\n",
        "        pij = pij/len(data_train['tokens_ns'])\n",
        "      else:\n",
        "        continue\n",
        "      NMPI += np.log(pij/(pi*pj))/(-np.log(pij))\n",
        "    NMPI_list.append(NMPI)\n",
        "  return NMPI_list\n",
        "  "
      ],
      "metadata": {
        "id": "NLO9Ujq6wHyZ"
      },
      "execution_count": 79,
      "outputs": []
    },
    {
      "cell_type": "code",
      "source": [
        "NMPI_ARTM = NMPI_calculate(ARTM_result)\n",
        "print('ARTM NMPI per topic: ', NMPI_ARTM) \n",
        "print('ARTM NMPI mean : ', np.mean(NMPI_ARTM))"
      ],
      "metadata": {
        "colab": {
          "base_uri": "https://localhost:8080/"
        },
        "id": "2lgUmMLcQrFS",
        "outputId": "71fb98e8-79c0-44df-e2ae-cd734b2c05a8"
      },
      "execution_count": 83,
      "outputs": [
        {
          "output_type": "stream",
          "name": "stdout",
          "text": [
            "ARTM NMPI per topic:  [2.060906771430453, 0.7413235851871691, 2.489739957063488, 2.117183260411967, 2.0651440690990093]\n",
            "ARTM NMPI mean :  1.8948595286384173\n"
          ]
        }
      ]
    },
    {
      "cell_type": "code",
      "source": [
        "NMPI_LDA = NMPI_calculate(LDA_result)\n",
        "print('LDA NMPI per topic: ', NMPI_LDA) \n",
        "print('LDA NMPI mean : ', np.mean(NMPI_LDA))"
      ],
      "metadata": {
        "colab": {
          "base_uri": "https://localhost:8080/"
        },
        "id": "lITCDIn3XBi9",
        "outputId": "23800715-cea1-4c48-950a-bead0976e6dd"
      },
      "execution_count": 85,
      "outputs": [
        {
          "output_type": "stream",
          "name": "stdout",
          "text": [
            "LDA NMPI per topic:  [1.8930759068070069, 2.6572190016742816, 2.0243985448776947, 1.1554349914843478, 2.8552219119289797]\n",
            "LDA NMPI mean :  2.117070071354462\n"
          ]
        }
      ]
    },
    {
      "cell_type": "code",
      "source": [
        "NMPI_NMF = NMPI_calculate(NMF_result)\n",
        "print('NMF NMPI per topic: ', NMPI_NMF) \n",
        "print('NMF NMPI mean : ', np.mean(NMPI_NMF))"
      ],
      "metadata": {
        "colab": {
          "base_uri": "https://localhost:8080/"
        },
        "id": "jYigH4oFXVgz",
        "outputId": "208ad2c0-17b3-4e27-a707-c3e6ddb134ab"
      },
      "execution_count": 86,
      "outputs": [
        {
          "output_type": "stream",
          "name": "stdout",
          "text": [
            "NMF NMPI per topic:  [1.5912385856881293, 2.580736322249636, 4.1617165369011095, 3.246669848006724, 3.139450390469324]\n",
            "NMF NMPI mean :  2.9439623366629846\n"
          ]
        }
      ]
    },
    {
      "cell_type": "markdown",
      "source": [
        "# Based on distributed representation\n"
      ],
      "metadata": {
        "id": "Yaj-y4GDYIhj"
      }
    },
    {
      "cell_type": "code",
      "source": [
        "import gensim.downloader\n",
        "glove_vectors = gensim.downloader.load('glove-twitter-25')\n",
        "from gensim.models import Word2Vec"
      ],
      "metadata": {
        "colab": {
          "base_uri": "https://localhost:8080/"
        },
        "id": "WDvRXloZv72Y",
        "outputId": "d58da5d9-8e13-4303-da1c-3b37866b907d"
      },
      "execution_count": 71,
      "outputs": [
        {
          "output_type": "stream",
          "name": "stderr",
          "text": [
            "/usr/local/lib/python3.7/dist-packages/smart_open/smart_open_lib.py:494: DeprecationWarning:\n",
            "\n",
            "This function is deprecated.  See https://github.com/RaRe-Technologies/smart_open/blob/develop/MIGRATING_FROM_OLDER_VERSIONS.rst for more information\n",
            "\n"
          ]
        }
      ]
    },
    {
      "cell_type": "code",
      "source": [
        "def disturbed_calculate(topic_df):\n",
        "  per_topic = []\n",
        "  for topic in range(len(topic_df)):\n",
        "    items = topic_df['words'][topic]\n",
        "    temp_sim = []\n",
        "    for pair in get_pairs(items):\n",
        "      try:\n",
        "        temp_sim.append(glove_vectors.similarity(pair[0], pair[1]))\n",
        "      except KeyError:\n",
        "        continue\n",
        "    per_topic.append(np.mean(temp_sim))\n",
        "\n",
        "  return per_topic"
      ],
      "metadata": {
        "id": "dZtKHcocgR4Y"
      },
      "execution_count": 89,
      "outputs": []
    },
    {
      "cell_type": "code",
      "source": [
        "dis_ARTM = disturbed_calculate(ARTM_result)\n",
        "print('ARTM distributed representation per topic: ', dis_ARTM) \n",
        "print('ARTM distributed representation mean : ', np.mean(dis_ARTM))"
      ],
      "metadata": {
        "colab": {
          "base_uri": "https://localhost:8080/"
        },
        "id": "qt-yY6hC1bA_",
        "outputId": "ec7c0a11-359c-477f-a1d0-89584f0b619f"
      },
      "execution_count": 96,
      "outputs": [
        {
          "output_type": "stream",
          "name": "stdout",
          "text": [
            "ARTM distributed representation per topic:  [0.7088382, 0.6306983, 0.7032531, 0.7788851, 0.79795945]\n",
            "ARTM distributed representation mean :  0.72392684\n"
          ]
        }
      ]
    },
    {
      "cell_type": "code",
      "source": [
        "dis_LDA = disturbed_calculate(LDA_result)\n",
        "print('LDA distributed representation per topic: ', dis_LDA) \n",
        "print('LDA distributed representation mean : ', np.mean(dis_LDA))"
      ],
      "metadata": {
        "colab": {
          "base_uri": "https://localhost:8080/"
        },
        "id": "ZmtT8cmTZAoF",
        "outputId": "47183516-ac40-4004-892f-5fecc14cab50"
      },
      "execution_count": 97,
      "outputs": [
        {
          "output_type": "stream",
          "name": "stdout",
          "text": [
            "LDA distributed representation per topic:  [0.8435468, 0.8322114, 0.7525609, 0.71602875, 0.80553275]\n",
            "LDA distributed representation mean :  0.78997606\n"
          ]
        }
      ]
    },
    {
      "cell_type": "code",
      "source": [
        "dis_NMF = disturbed_calculate(NMF_result)\n",
        "print('NMF distributed representation per topic: ', dis_NMF) \n",
        "print('NMF distributed representation mean : ', np.mean(dis_NMF))"
      ],
      "metadata": {
        "colab": {
          "base_uri": "https://localhost:8080/"
        },
        "id": "dSxtw-TWZNYa",
        "outputId": "8bb882d7-c94f-47bf-9c66-8fdb60583875"
      },
      "execution_count": 99,
      "outputs": [
        {
          "output_type": "stream",
          "name": "stdout",
          "text": [
            "NMF distributed representation per topic:  [0.80515206, 0.8896055, 0.8140967, 0.7245761, 0.89320207]\n",
            "NMF distributed representation mean :  0.82532656\n"
          ]
        }
      ]
    }
  ]
}